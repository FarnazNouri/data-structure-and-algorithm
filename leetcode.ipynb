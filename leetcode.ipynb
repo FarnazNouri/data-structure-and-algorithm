{
 "cells": [
  {
   "cell_type": "markdown",
   "id": "445e2fc0",
   "metadata": {},
   "source": [
    "Longest Common Prefix\n",
    "\n",
    "Solution\n",
    "Write a function to find the longest common prefix string amongst an array of strings.\n",
    "\n",
    "If there is no common prefix, return an empty string \"\".\n",
    "\n",
    " \n",
    "\n",
    "Example 1:\n",
    "\n",
    "Input: strs = [\"flower\",\"flow\",\"flight\"]\n",
    "Output: \"fl\"\n",
    "Example 2:\n",
    "\n",
    "Input: strs = [\"dog\",\"racecar\",\"car\"]\n",
    "Output: \"\"\n",
    "Explanation: There is no common prefix among the input strings."
   ]
  },
  {
   "cell_type": "code",
   "execution_count": null,
   "id": "abfe70bf",
   "metadata": {},
   "outputs": [],
   "source": [
    "def longestCommonPrefix(strs):\n",
    "    if strs == None or len(strs) == 0:\n",
    "        return \"\"\n",
    "    for i in range(len(strs[0])):\n",
    "        c = strs[0][i]\n",
    "        for j in range(1, len(strs)):\n",
    "            if i == len(strs[j]) or strs[j][i] != c:\n",
    "                return strs[0][0:i]\n",
    "    return strs[0]"
   ]
  },
  {
   "cell_type": "code",
   "execution_count": 11,
   "id": "2d9bb381",
   "metadata": {},
   "outputs": [
    {
     "data": {
      "text/plain": [
       "''"
      ]
     },
     "execution_count": 11,
     "metadata": {},
     "output_type": "execute_result"
    }
   ],
   "source": [
    "strs = [\"\"]\n",
    "longestCommonPrefix(strs)"
   ]
  },
  {
   "cell_type": "markdown",
   "id": "2750efd0",
   "metadata": {},
   "source": [
    "# Divide and Conquer"
   ]
  },
  {
   "cell_type": "code",
   "execution_count": 16,
   "id": "c231f77c",
   "metadata": {},
   "outputs": [
    {
     "name": "stdout",
     "output_type": "stream",
     "text": [
      "leetco lee\n",
      "lee let\n",
      "le letdd\n",
      "le leddj\n",
      "le le\n"
     ]
    },
    {
     "data": {
      "text/plain": [
       "'le'"
      ]
     },
     "execution_count": 16,
     "metadata": {},
     "output_type": "execute_result"
    }
   ],
   "source": [
    "def longestCommonPrefix(strs):\n",
    "        if not strs:\n",
    "            return \"\"\n",
    "\n",
    "        def LCP(left, right):\n",
    "            print(left,right)\n",
    "            min_len = min(len(left), len(right))\n",
    "            for i in range(min_len):\n",
    "                if left[i] != right[i]:\n",
    "                    return left[:i]\n",
    "            return left[:min_len]\n",
    "\n",
    "        def divide_and_conquer(strs, l, r):\n",
    "            if l == r:\n",
    "                return strs[l]\n",
    "            else:\n",
    "                mid = (l + r) // 2\n",
    "                lcpLeft = divide_and_conquer(strs, l, mid)\n",
    "                lcpRight = divide_and_conquer(strs, mid + 1, r)\n",
    "                return LCP(lcpLeft, lcpRight)\n",
    "\n",
    "        return divide_and_conquer(strs, 0, len(strs) - 1)\n",
    "\n",
    "strs = [\"leetco\", \"lee\", \"let\",\"le\", \"letdd\",\"leddj\"]\n",
    "longestCommonPrefix(strs)"
   ]
  },
  {
   "cell_type": "markdown",
   "id": "626bee3b",
   "metadata": {},
   "source": [
    "# Move zeros to the end of the Array while keeping the same ordere of the array\n"
   ]
  },
  {
   "cell_type": "code",
   "execution_count": null,
   "id": "77a62ab2",
   "metadata": {},
   "outputs": [
    {
     "name": "stdout",
     "output_type": "stream",
     "text": [
      "[12, 1, 3, 0, 0]\n"
     ]
    }
   ],
   "source": [
    "# arr = [0,1,2,0,3,0,4,0,0,5,0]\n",
    "# Not acceptable because it changes the order of the numbers\n",
    "arr = [12,1,0,3,0]\n",
    "\n",
    "i,j = 0,len(arr)-1\n",
    "\n",
    "while i < j:\n",
    "    if arr[i] == 0:\n",
    "        while arr[j] == 0:\n",
    "            j -=1\n",
    "        arr[i], arr[j] = arr[j], arr[i]\n",
    "        i +=1\n",
    "        j -=1\n",
    "    else:\n",
    "        i +=1\n",
    "print(arr)\n"
   ]
  },
  {
   "cell_type": "code",
   "execution_count": 36,
   "id": "23f737b0",
   "metadata": {},
   "outputs": [
    {
     "name": "stdout",
     "output_type": "stream",
     "text": [
      "[1, 2, 3, 4, 0, 0, 0]\n"
     ]
    }
   ],
   "source": [
    "nums = [0,1,2,3,0,4,0]\n",
    "insert_pos = 0\n",
    "for num in nums:\n",
    "    if num != 0:\n",
    "        nums[insert_pos] = num\n",
    "        insert_pos += 1\n",
    "for i in range(insert_pos, len(nums)):\n",
    "    nums[i] = 0\n",
    "\n",
    "print(nums)"
   ]
  },
  {
   "cell_type": "markdown",
   "id": "2e8093ed",
   "metadata": {},
   "source": [
    "# Remove a node from a linked list"
   ]
  },
  {
   "cell_type": "code",
   "execution_count": null,
   "id": "5dd08d53",
   "metadata": {},
   "outputs": [],
   "source": [
    "head = [1,2,3,4,5]\n",
    "node = 3\n",
    "node.val = node.next.val\n",
    "node.next = node.next.next\n",
    "    "
   ]
  },
  {
   "cell_type": "markdown",
   "id": "9288967b",
   "metadata": {},
   "source": [
    "# remove nth element from the end of the list"
   ]
  },
  {
   "cell_type": "markdown",
   "id": "c1cd748c",
   "metadata": {},
   "source": []
  },
  {
   "cell_type": "code",
   "execution_count": null,
   "id": "fccd5a0e",
   "metadata": {},
   "outputs": [],
   "source": [
    "head = [1,2,3,4,5]\n",
    "node = 3\n",
    "i = 0\n",
    "j = node\n",
    "while head.next():\n",
    "    val = head.next()\n",
    "    i +=1\n",
    "    \n",
    "\n"
   ]
  },
  {
   "cell_type": "markdown",
   "id": "9eea44b8",
   "metadata": {},
   "source": [
    "# Power of four"
   ]
  },
  {
   "cell_type": "code",
   "execution_count": null,
   "id": "18272770",
   "metadata": {},
   "outputs": [
    {
     "data": {
      "text/plain": [
       "np.float64(9.0)"
      ]
     },
     "execution_count": 6,
     "metadata": {},
     "output_type": "execute_result"
    }
   ],
   "source": [
    "import numpy as np\n",
    "def ispowerOfFour(n):\n",
    "    if n == 0:\n",
    "       return True\n",
    "    if n < 0:\n",
    "        return False\n",
    "    # find half of the multiplications of n\n",
    "    x = []\n",
    "    for i in range(2,int(n/4)):\n",
    "        if n % i == 0:\n",
    "            x.append(i)\n",
    "    for i in x:\n",
    "        if i ** 4 ==n:\n",
    "            print (i)\n",
    "            return True\n",
    "    return False\n"
   ]
  },
  {
   "cell_type": "code",
   "execution_count": 21,
   "id": "01a55389",
   "metadata": {},
   "outputs": [],
   "source": [
    "\n",
    "def isPowerOfFour( n: int) -> bool:\n",
    "    if n == 0:\n",
    "        return False\n",
    "    while n % 4 == 0:\n",
    "        n/=4\n",
    "    return n == 1\n",
    "    "
   ]
  },
  {
   "cell_type": "code",
   "execution_count": 22,
   "id": "95117c66",
   "metadata": {},
   "outputs": [
    {
     "data": {
      "text/plain": [
       "False"
      ]
     },
     "execution_count": 22,
     "metadata": {},
     "output_type": "execute_result"
    }
   ],
   "source": [
    "isPowerOfFour(81)"
   ]
  },
  {
   "cell_type": "code",
   "execution_count": 18,
   "id": "56011375",
   "metadata": {},
   "outputs": [
    {
     "data": {
      "text/plain": [
       "0"
      ]
     },
     "execution_count": 18,
     "metadata": {},
     "output_type": "execute_result"
    }
   ],
   "source": [
    "0 ** 4\n"
   ]
  },
  {
   "cell_type": "code",
   "execution_count": 26,
   "id": "8c28ca68",
   "metadata": {},
   "outputs": [
    {
     "data": {
      "text/plain": [
       "0.6931471805599453"
      ]
     },
     "execution_count": 26,
     "metadata": {},
     "output_type": "execute_result"
    }
   ],
   "source": [
    "import math\n",
    "math.log(2)"
   ]
  },
  {
   "cell_type": "markdown",
   "id": "c362391a",
   "metadata": {},
   "source": [
    "# 8. String to Integer (atoi)\n",
    "Medium\n",
    "\n",
    "Topics\n",
    "conpanies icon\n",
    "Companies\n",
    "Implement the myAtoi(string s) function, which converts a string to a 32-bit signed integer.\n",
    "\n",
    "The algorithm for myAtoi(string s) is as follows:\n",
    "\n",
    "Whitespace: Ignore any leading whitespace (\" \").\n",
    "\n",
    "Signedness: Determine the sign by checking if the next character is '-' or '+', assuming positivity if neither present.\n",
    "\n",
    "Conversion: Read the integer by skipping leading zeros until a non-digit character is encountered or the end of the string is reached. If no digits were read, then the result is 0.\n",
    "\n",
    "Rounding: If the integer is out of the 32-bit signed integer range [-231, 231 - 1], then round the integer to remain in the range. Specifically, integers less than -231 should be rounded to -231, and integers greater than 231 - 1 should be rounded to 231 - 1.\n",
    "\n",
    "Return the integer as the final result."
   ]
  },
  {
   "cell_type": "code",
   "execution_count": 73,
   "id": "9c8e29fd",
   "metadata": {},
   "outputs": [],
   "source": [
    "s = \"-043\"\n",
    "def myAtoi(s):\n",
    "    new_s = \"\"\n",
    "    zero= False\n",
    "    positive = False\n",
    "    negative = False\n",
    "    sign = False\n",
    "    i = 0\n",
    "    for i, ch in enumerate(s):\n",
    "        if ch.isspace() and len(new_s) ==0:\n",
    "            continue\n",
    "        elif ch=='0':\n",
    "            zero = True\n",
    "            continue\n",
    "        elif negative == False and zero==False and ch=='-' and sign==False:\n",
    "            negative=True\n",
    "            sign==True\n",
    "            continue\n",
    "        elif positive == False and zero==False and ch=='+' and sign==False:\n",
    "            positive=True\n",
    "            sign==True\n",
    "            continue   \n",
    "        elif negative == False  and zero==True and ch=='-':\n",
    "            break\n",
    "        elif ch.isalpha():\n",
    "            break\n",
    "        elif ch.isdigit():\n",
    "            new_s+=ch\n",
    "        else:\n",
    "            break\n",
    "\n",
    "    if len(new_s)==0:\n",
    "            return 0\n",
    "    elif negative==True:\n",
    "        if int(new_s)* -1 < -2** 31:\n",
    "            return -2** 31\n",
    "        else:\n",
    "            return int(new_s) * -1    \n",
    "    elif int(new_s)* -1>(2** 31)-1:\n",
    "        return (2 ** 31)-1\n",
    "    else:\n",
    "        return int(new_s)   \n",
    "        \n",
    "\n",
    "\n",
    "\n",
    "    "
   ]
  },
  {
   "cell_type": "code",
   "execution_count": 74,
   "id": "f09d53ef",
   "metadata": {},
   "outputs": [
    {
     "data": {
      "text/plain": [
       "-43"
      ]
     },
     "execution_count": 74,
     "metadata": {},
     "output_type": "execute_result"
    }
   ],
   "source": [
    "\"+-12\"\n",
    "myAtoi(s)"
   ]
  },
  {
   "cell_type": "markdown",
   "id": "9f45ec8a",
   "metadata": {},
   "source": [
    "# Generate all the combinations of well-formed parentheses, given n pairs of parentheses.\n"
   ]
  },
  {
   "cell_type": "code",
   "execution_count": null,
   "id": "00a19705",
   "metadata": {},
   "outputs": [],
   "source": [
    "n = 2\n",
    "(())\n",
    "()()    \n",
    " \n",
    " "
   ]
  },
  {
   "cell_type": "markdown",
   "id": "47e6510e",
   "metadata": {},
   "source": []
  },
  {
   "cell_type": "code",
   "execution_count": null,
   "id": "2086a094",
   "metadata": {},
   "outputs": [
    {
     "data": {
      "text/plain": [
       "'1'"
      ]
     },
     "execution_count": 34,
     "metadata": {},
     "output_type": "execute_result"
    }
   ],
   "source": []
  },
  {
   "cell_type": "code",
   "execution_count": null,
   "id": "709b6f06",
   "metadata": {},
   "outputs": [],
   "source": []
  }
 ],
 "metadata": {
  "kernelspec": {
   "display_name": ".venv",
   "language": "python",
   "name": "python3"
  },
  "language_info": {
   "codemirror_mode": {
    "name": "ipython",
    "version": 3
   },
   "file_extension": ".py",
   "mimetype": "text/x-python",
   "name": "python",
   "nbconvert_exporter": "python",
   "pygments_lexer": "ipython3",
   "version": "3.9.6"
  }
 },
 "nbformat": 4,
 "nbformat_minor": 5
}
