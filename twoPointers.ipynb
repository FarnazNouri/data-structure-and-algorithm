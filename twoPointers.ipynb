{
 "cells": [
  {
   "cell_type": "markdown",
   "id": "964a8eea",
   "metadata": {},
   "source": [
    "# Valid Palindrome\n",
    "Given a string s, return true if it is a palindrome, otherwise return false.\n",
    "\n",
    "A palindrome is a string that reads the same forward and backward. It is also case-insensitive and ignores all non-alphanumeric characters.\n",
    "\n",
    "Note: Alphanumeric characters consist of letters (A-Z, a-z) and numbers (0-9).\n",
    "\n",
    "Example 1:\n",
    "\n",
    "Input: s = \"Was it a car or a cat I saw?\"\n",
    "\n",
    "Output: true\n",
    "Explanation: After considering only alphanumerical characters we have \"wasitacaroracatisaw\", which is a palindrome.\n",
    "\n",
    "Example 2:\n",
    "\n",
    "Input: s = \"tab a cat\"\n",
    "\n",
    "Output: false"
   ]
  },
  {
   "cell_type": "code",
   "execution_count": 17,
   "id": "83438562",
   "metadata": {},
   "outputs": [
    {
     "data": {
      "text/plain": [
       "True"
      ]
     },
     "execution_count": 17,
     "metadata": {},
     "output_type": "execute_result"
    }
   ],
   "source": [
    "s = \"tab a bat?\"\n",
    "def isPolindrom(s):\n",
    "    i = 0\n",
    "    j = len(s)-1\n",
    "\n",
    "    while i < j:\n",
    "        while i < j and not isAlphaNum(s[i]):\n",
    "            i +=1\n",
    "        while j > i and not isAlphaNum(s[j]):\n",
    "            j -=1\n",
    "        if s[i].lower() != s[j].lower():\n",
    "            return False\n",
    "        i +=1\n",
    "        j -=1\n",
    "    return True\n",
    "\n",
    "def isAlphaNum(ch):\n",
    "    return ( ord('a') <= ord(ch) <= ord('z') or \n",
    "    ord('A') <= ord(ch) <= ord('Z') or\n",
    "    ord('0') <= ord(ch) <= ord('9'))\n",
    "\n",
    "isPolindrom(s)"
   ]
  },
  {
   "cell_type": "markdown",
   "id": "6697cff3",
   "metadata": {},
   "source": [
    "### Complexity Analysis: In-Place Palindrome Check (Skipping Spaces)\n",
    "- **Time Complexity:** O(n), where n is the length of the string. Each character is checked at most once as the pointers move from both ends toward the center.\n",
    "- **Space Complexity:** O(1), since no extra space is used except for a few variables (i, j). The string is not copied or modified, only read in-place."
   ]
  },
  {
   "cell_type": "code",
   "execution_count": 18,
   "id": "aa0edf39",
   "metadata": {},
   "outputs": [],
   "source": [
    "s = \"Was it a car or a cat I saw\"\n",
    "# ''.join(ch for ch in s if not ch.isspace())"
   ]
  },
  {
   "cell_type": "code",
   "execution_count": 5,
   "id": "2e758a06",
   "metadata": {},
   "outputs": [
    {
     "data": {
      "text/plain": [
       "'WasitacaroracatIsaw'"
      ]
     },
     "execution_count": 5,
     "metadata": {},
     "output_type": "execute_result"
    }
   ],
   "source": [
    "s.replace(\" \", \"\")"
   ]
  },
  {
   "cell_type": "code",
   "execution_count": 11,
   "id": "96120956",
   "metadata": {},
   "outputs": [
    {
     "data": {
      "text/plain": [
       "True"
      ]
     },
     "execution_count": 11,
     "metadata": {},
     "output_type": "execute_result"
    }
   ],
   "source": [
    "# use reverse string\n",
    "'''\n",
    "Time & Space Complexity\n",
    "Time complexity: O(n)\n",
    "Space complexity:O(n)\n",
    "'''\n",
    "\n",
    "s = 'Was it a car or a cat I saw'\n",
    "def isPalindrome(s):\n",
    "    news = ''\n",
    "    for c in s:\n",
    "        if c.isalnum():\n",
    "            news += c.lower()\n",
    "    return news ==news[::-1]\n",
    "\n",
    "isPalindrome(s)\n"
   ]
  },
  {
   "cell_type": "markdown",
   "id": "0b30db32",
   "metadata": {},
   "source": [
    "# Two Integer Sum II\n",
    "Given an array of integers numbers that is sorted in non-decreasing order.\n",
    "\n",
    "Return the indices (1-indexed) of two numbers, [index1, index2], such that they add up to a given target number target and index1 < index2. Note that index1 and index2 cannot be equal, therefore you may not use the same element twice.\n",
    "\n",
    "There will always be exactly one valid solution.\n",
    "\n",
    "Your solution must use \n",
    "O\n",
    "(\n",
    "1\n",
    ")\n",
    "O(1) additional space."
   ]
  },
  {
   "cell_type": "code",
   "execution_count": null,
   "id": "f0871fc8",
   "metadata": {},
   "outputs": [],
   "source": []
  },
  {
   "cell_type": "code",
   "execution_count": null,
   "id": "31c83846",
   "metadata": {},
   "outputs": [
    {
     "data": {
      "text/plain": [
       "[2, 3]"
      ]
     },
     "execution_count": 22,
     "metadata": {},
     "output_type": "execute_result"
    }
   ],
   "source": [
    "# using two pointers with O(n)-> time complexity and O(1) -> space complexity\n",
    "numbers = [1,2,3,4]\n",
    "target = 3\n",
    "\n",
    "numbers = [-3, -2, -1,4]\n",
    "target = 3\n",
    "def twoSum(numbers):\n",
    "    l = 0\n",
    "    r = len(numbers)-1\n",
    "\n",
    "    while l < r:\n",
    "        if numbers[l] + numbers[r]== target:\n",
    "            return [l+1,r+1]\n",
    "        if numbers[l] + numbers[r ] > target:\n",
    "            r -=1\n",
    "        else:\n",
    "            l +=1          \n",
    "    return []\n",
    "\n",
    "twoSum(numbers)\n",
    "\n"
   ]
  },
  {
   "cell_type": "code",
   "execution_count": null,
   "id": "a6f49c30",
   "metadata": {},
   "outputs": [],
   "source": [
    "# Two Sum II using binary search for each element\n",
    "def twoSum_binary_search(numbers, target):\n",
    "    for i in range(len(numbers)):\n",
    "        left, right = i + 1, len(numbers) - 1\n",
    "        complement = target - numbers[i]\n",
    "        # Binary search for complement\n",
    "        while left <= right:\n",
    "            mid = (left + right) // 2\n",
    "            if numbers[mid] == complement:\n",
    "                return [i + 1, mid + 1]  # 1-indexed\n",
    "            elif numbers[mid] < complement:\n",
    "                left = mid + 1\n",
    "            else:\n",
    "                right = mid - 1\n",
    "    return []\n",
    "numbers = [-3, -2, -1, 4]\n",
    "target = 3\n",
    "twoSum_binary_search(numbers, target)"
   ]
  },
  {
   "cell_type": "code",
   "execution_count": null,
   "id": "350357de",
   "metadata": {},
   "outputs": [],
   "source": [
    "# Uaing binary search: time complexity = O(nlogn), space O()\n",
    "nums = [1,2,3,4]\n",
    "def twoNumbers(nums):\n",
    "    l = 0\n",
    "    r = len(nums) - 1\n",
    "    while l < r:\n",
    "        if target - nums[l] == nums[r]:\n",
    "            return [l+1, r+1]\n",
    "        if target - nums[l] < nums[r]:\n",
    "            mid = (l + r)//2\n",
    "            \n",
    "\n"
   ]
  },
  {
   "cell_type": "markdown",
   "id": "f672d363",
   "metadata": {},
   "source": [
    "# Best Time to Buy and Sell Stock\n",
    "Solved \n",
    "You are given an integer array prices where prices[i] is the price of NeetCoin on the ith day.\n",
    "\n",
    "You may choose a single day to buy one NeetCoin and choose a different day in the future to sell it.\n",
    "\n",
    "Return the maximum profit you can achieve. You may choose to not make any transactions, in which case the profit would be 0.\n",
    "\n",
    "Example 1:\n",
    "\n",
    "Input: prices = [10,1,5,6,7,1]\n",
    "\n",
    "Output: 6\n",
    "Explanation: Buy prices[1] and sell prices[4], profit = 7 - 1 = 6.\n",
    "\n",
    "Example 2:\n",
    "\n",
    "Input: prices = [10,8,7,5,2]\n",
    "\n",
    "Output: 0\n",
    "Explanation: No profitable transactions can be made, thus the max profit is 0.\n",
    "\n",
    "Constraints:\n",
    "\n",
    "1 <= prices.length <= 100\n",
    "0 <= prices[i] <= 100\n"
   ]
  },
  {
   "cell_type": "code",
   "execution_count": null,
   "id": "2ca4ecac",
   "metadata": {},
   "outputs": [
    {
     "data": {
      "text/plain": [
       "7"
      ]
     },
     "execution_count": 25,
     "metadata": {},
     "output_type": "execute_result"
    }
   ],
   "source": [
    "prices = [2,1,4,3,2,7,8]\n",
    "\n",
    "# solution with dynamic programming\n",
    "\n",
    "def maxProfit(prices):\n",
    "    maxp = 0\n",
    "    minbuy = prices[0]\n",
    "\n",
    "    for sell in prices:\n",
    "        maxp = max(maxp , sell - minbuy)\n",
    "        minbuy = min(sell , minbuy)\n",
    "    return maxp\n",
    "\n",
    "maxProfit(prices)"
   ]
  },
  {
   "cell_type": "code",
   "execution_count": 30,
   "id": "f6b6f1e6",
   "metadata": {},
   "outputs": [
    {
     "data": {
      "text/plain": [
       "7"
      ]
     },
     "execution_count": 30,
     "metadata": {},
     "output_type": "execute_result"
    }
   ],
   "source": [
    "# solution with two pointers\n",
    "\n",
    "prices = [2,1,4,3,2,7,8]\n",
    "\n",
    "def maxProfit(prices):\n",
    "    maxp = 0\n",
    "    l = 0\n",
    "    r = 1\n",
    "\n",
    "    while r < len(prices):\n",
    "        maxp = max(maxp , prices[r] - prices[l])\n",
    "        if prices[l] > prices[r]:\n",
    "            l = r\n",
    "        else:\n",
    "            r +=1\n",
    "    return maxp\n",
    "\n",
    "maxProfit(prices)"
   ]
  },
  {
   "cell_type": "markdown",
   "id": "16a1c143",
   "metadata": {},
   "source": []
  },
  {
   "cell_type": "markdown",
   "id": "08ed3421",
   "metadata": {},
   "source": []
  },
  {
   "cell_type": "code",
   "execution_count": 15,
   "id": "58e3eb45",
   "metadata": {},
   "outputs": [
    {
     "data": {
      "text/plain": [
       "[-4, -1, -1, 0, 1, 2]"
      ]
     },
     "execution_count": 15,
     "metadata": {},
     "output_type": "execute_result"
    }
   ],
   "source": [
    "nums = [-1,0,1,2,-1,-4]\n",
    "nums.sort()\n",
    "sorted(nums)\n",
    "nums"
   ]
  },
  {
   "cell_type": "markdown",
   "id": "96ae81ab",
   "metadata": {},
   "source": [
    "## `sorted(nums)` vs `nums.sort()` - Key Differences\n",
    "\n",
    "There are important differences between these two sorting methods:"
   ]
  },
  {
   "cell_type": "code",
   "execution_count": null,
   "id": "c17eaa44",
   "metadata": {},
   "outputs": [],
   "source": [
    "# Demonstrating the difference between sorted() and .sort()\n",
    "\n",
    "# Original list\n",
    "nums = [3, 1, 4, 1, 5, 9, 2, 6]\n",
    "print(f\"Original nums: {nums}\")\n",
    "print()\n",
    "\n",
    "# Method 1: sorted() - Creates a NEW list\n",
    "nums_copy1 = nums.copy()\n",
    "sorted_nums = sorted(nums_copy1)\n",
    "print(\"Using sorted():\")\n",
    "print(f\"  sorted(nums) returns: {sorted_nums}\")\n",
    "print(f\"  Original nums after sorted(): {nums_copy1}\")\n",
    "print(f\"  nums is unchanged: {nums_copy1 is sorted_nums}\")  # False - different objects\n",
    "print()\n",
    "\n",
    "# Method 2: .sort() - Modifies the SAME list\n",
    "nums_copy2 = nums.copy()\n",
    "print(\"Using .sort():\")\n",
    "print(f\"  Before nums.sort(): {nums_copy2}\")\n",
    "result = nums_copy2.sort()  # This modifies nums_copy2 in-place\n",
    "print(f\"  nums.sort() returns: {result}\")  # Returns None!\n",
    "print(f\"  After nums.sort(): {nums_copy2}\")\n",
    "print()\n",
    "\n",
    "# Summary\n",
    "print(\"🔍 Key Differences:\")\n",
    "print(\"sorted(nums)  → Returns NEW sorted list, original unchanged\")\n",
    "print(\"nums.sort()   → Modifies original list in-place, returns None\")"
   ]
  },
  {
   "cell_type": "markdown",
   "id": "58c8c435",
   "metadata": {},
   "source": [
    "## When to Use Which?\n",
    "\n",
    "### Use `nums.sort()` when:\n",
    "✅ **You want to modify the original list**  \n",
    "✅ **Memory efficiency is important** (no extra list created)  \n",
    "✅ **You don't need the original order anymore**  \n",
    "\n",
    "### Use `sorted(nums)` when:\n",
    "✅ **You want to keep the original list unchanged**  \n",
    "✅ **You need both sorted and original versions**  \n",
    "✅ **Working with immutable data or function parameters**  \n",
    "\n",
    "## Common Mistake in Your Code:\n",
    "\n",
    "Looking at your three-sum function, there's a bug:"
   ]
  },
  {
   "cell_type": "code",
   "execution_count": null,
   "id": "4732f40d",
   "metadata": {},
   "outputs": [],
   "source": [
    "# Your original three-sum function has a bug - let's fix it!\n",
    "\n",
    "def threesum_corrected(nums):\n",
    "    # ❌ Wrong: sorted(nums) doesn't modify nums\n",
    "    # sorted(nums)  \n",
    "    \n",
    "    # ✅ Correct: Use nums.sort() to modify in-place\n",
    "    nums.sort()  # This actually sorts the list\n",
    "    \n",
    "    if len(nums) < 3:\n",
    "        return []\n",
    "    if nums[0] > 0 or nums[-1] < 0:\n",
    "        return []\n",
    "    \n",
    "    res = []\n",
    "    \n",
    "    for i in range(len(nums) - 2):\n",
    "        # Skip duplicates for the first number\n",
    "        if i > 0 and nums[i] == nums[i-1]:\n",
    "            continue\n",
    "            \n",
    "        left, right = i + 1, len(nums) - 1\n",
    "        \n",
    "        while left < right:\n",
    "            current_sum = nums[i] + nums[left] + nums[right]\n",
    "            \n",
    "            if current_sum == 0:\n",
    "                res.append([nums[i], nums[left], nums[right]])\n",
    "                \n",
    "                # Skip duplicates for second and third numbers\n",
    "                while left < right and nums[left] == nums[left + 1]:\n",
    "                    left += 1\n",
    "                while left < right and nums[right] == nums[right - 1]:\n",
    "                    right -= 1\n",
    "                    \n",
    "                left += 1\n",
    "                right -= 1\n",
    "            elif current_sum < 0:\n",
    "                left += 1\n",
    "            else:\n",
    "                right -= 1\n",
    "                \n",
    "    return res\n",
    "\n",
    "# Test the corrected function\n",
    "nums = [-1, 0, 1, 2, -1, -4]\n",
    "print(f\"Input: {nums}\")\n",
    "result = threesum_corrected(nums.copy())  # Use copy to preserve original\n",
    "print(f\"Three sums that equal 0: {result}\")\n",
    "\n",
    "# Alternative: Using sorted() to preserve original\n",
    "def threesum_with_sorted(nums):\n",
    "    # ✅ This creates a new sorted list without modifying original\n",
    "    sorted_nums = sorted(nums)\n",
    "    \n",
    "    if len(sorted_nums) < 3:\n",
    "        return []\n",
    "    if sorted_nums[0] > 0 or sorted_nums[-1] < 0:\n",
    "        return []\n",
    "    \n",
    "    res = []\n",
    "    # ... rest of the algorithm using sorted_nums\n",
    "    return res"
   ]
  },
  {
   "cell_type": "markdown",
   "id": "6be0d742",
   "metadata": {},
   "source": [
    "## Quick Reference\n",
    "\n",
    "| Method | Returns | Original List | Memory | Use When |\n",
    "|--------|---------|---------------|---------|----------|\n",
    "| `nums.sort()` | `None` | **Modified** | Efficient | Want to sort in-place |\n",
    "| `sorted(nums)` | **New list** | Unchanged | Uses more | Need to preserve original |\n",
    "\n",
    "## Performance Comparison\n",
    "\n",
    "Both have the same **time complexity**: O(n log n)  \n",
    "**Space complexity** differs:\n",
    "- `nums.sort()`: O(1) - sorts in-place\n",
    "- `sorted(nums)`: O(n) - creates new list\n",
    "\n",
    "## Bottom Line\n",
    "\n",
    "**For your three-sum problem**: Use `nums.sort()` because:\n",
    "- You need the list sorted for the two-pointer technique\n",
    "- You don't need the original unsorted order\n",
    "- More memory efficient\n",
    "\n",
    "The bug in your code was using `sorted(nums)` without assigning it - the list never actually got sorted! 🐛"
   ]
  },
  {
   "cell_type": "code",
   "execution_count": 26,
   "id": "69be4a36",
   "metadata": {},
   "outputs": [
    {
     "data": {
      "text/plain": [
       "[[-1, -1, 2], [-1, 0, 1]]"
      ]
     },
     "execution_count": 26,
     "metadata": {},
     "output_type": "execute_result"
    }
   ],
   "source": [
    "\n",
    "def threesum(nums):\n",
    "    nums.sort()\n",
    "    res=[]\n",
    "    for i, a in enumerate(nums):\n",
    "        if a > 0:\n",
    "            break\n",
    "        if i > 0 and a == nums[i-1]:\n",
    "            continue\n",
    "\n",
    "        l, r = i + 1, len(nums)-1\n",
    "        while l < r:\n",
    "            threesum = a + nums[l] + nums[r]\n",
    "            if threesum > 0:\n",
    "                r -= 1\n",
    "            elif threesum < 0:\n",
    "                l += 1\n",
    "\n",
    "            else:\n",
    "                res.append([a, nums[l], nums[r]])\n",
    "                l +=1\n",
    "                r -=1\n",
    "                while nums[l] == nums[l-1] and l < r:\n",
    "                    l +=1\n",
    "    return res\n",
    "\n",
    "\n",
    "nums = [-1,0,1,2,-1,-4]\n",
    "threesum(nums)        "
   ]
  },
  {
   "cell_type": "markdown",
   "id": "ac1a90ef",
   "metadata": {},
   "source": []
  },
  {
   "cell_type": "code",
   "execution_count": null,
   "id": "ac1a90ef",
   "metadata": {},
   "outputs": [
    {
     "name": "stdout",
     "output_type": "stream",
     "text": [
      "0 5\n",
      "0 4\n",
      "0 3\n",
      "0 2\n",
      "0 1\n",
      "1 5\n",
      "1 4\n",
      "1 3\n",
      "1 2\n",
      "1 1\n",
      "2 5\n",
      "2 4\n",
      "2 3\n",
      "2 2\n",
      "2 1\n",
      "3 5\n",
      "3 4\n",
      "3 3\n",
      "3 2\n",
      "3 1\n",
      "4 5\n",
      "4 4\n",
      "4 3\n",
      "4 2\n",
      "4 1\n",
      "5 5\n",
      "5 4\n",
      "5 3\n",
      "5 2\n",
      "5 1\n"
     ]
    }
   ],
   "source": []
  },
  {
   "cell_type": "code",
   "execution_count": null,
   "id": "1bf81590",
   "metadata": {},
   "outputs": [],
   "source": []
  }
 ],
 "metadata": {
  "kernelspec": {
   "display_name": "Python 3",
   "language": "python",
   "name": "python3"
  },
  "language_info": {
   "codemirror_mode": {
    "name": "ipython",
    "version": 3
   },
   "file_extension": ".py",
   "mimetype": "text/x-python",
   "name": "python",
   "nbconvert_exporter": "python",
   "pygments_lexer": "ipython3",
   "version": "3.9.6"
  }
 },
 "nbformat": 4,
 "nbformat_minor": 5
}
