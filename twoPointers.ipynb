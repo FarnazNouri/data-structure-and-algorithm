{
 "cells": [
  {
   "cell_type": "markdown",
   "id": "964a8eea",
   "metadata": {},
   "source": [
    "# Valid Palindrome\n",
    "Given a string s, return true if it is a palindrome, otherwise return false.\n",
    "\n",
    "A palindrome is a string that reads the same forward and backward. It is also case-insensitive and ignores all non-alphanumeric characters.\n",
    "\n",
    "Note: Alphanumeric characters consist of letters (A-Z, a-z) and numbers (0-9).\n",
    "\n",
    "Example 1:\n",
    "\n",
    "Input: s = \"Was it a car or a cat I saw?\"\n",
    "\n",
    "Output: true\n",
    "Explanation: After considering only alphanumerical characters we have \"wasitacaroracatisaw\", which is a palindrome.\n",
    "\n",
    "Example 2:\n",
    "\n",
    "Input: s = \"tab a cat\"\n",
    "\n",
    "Output: false"
   ]
  },
  {
   "cell_type": "code",
   "execution_count": 17,
   "id": "83438562",
   "metadata": {},
   "outputs": [
    {
     "data": {
      "text/plain": [
       "True"
      ]
     },
     "execution_count": 17,
     "metadata": {},
     "output_type": "execute_result"
    }
   ],
   "source": [
    "s = \"tab a bat?\"\n",
    "def isPolindrom(s):\n",
    "    i = 0\n",
    "    j = len(s)-1\n",
    "\n",
    "    while i < j:\n",
    "        while i < j and not isAlphaNum(s[i]):\n",
    "            i +=1\n",
    "        while j > i and not isAlphaNum(s[j]):\n",
    "            j -=1\n",
    "        if s[i].lower() != s[j].lower():\n",
    "            return False\n",
    "        i +=1\n",
    "        j -=1\n",
    "    return True\n",
    "\n",
    "def isAlphaNum(ch):\n",
    "    return ( ord('a') <= ord(ch) <= ord('z') or \n",
    "    ord('A') <= ord(ch) <= ord('Z') or\n",
    "    ord('0') <= ord(ch) <= ord('9'))\n",
    "\n",
    "isPolindrom(s)"
   ]
  },
  {
   "cell_type": "markdown",
   "id": "6697cff3",
   "metadata": {},
   "source": [
    "### Complexity Analysis: In-Place Palindrome Check (Skipping Spaces)\n",
    "- **Time Complexity:** O(n), where n is the length of the string. Each character is checked at most once as the pointers move from both ends toward the center.\n",
    "- **Space Complexity:** O(1), since no extra space is used except for a few variables (i, j). The string is not copied or modified, only read in-place."
   ]
  },
  {
   "cell_type": "code",
   "execution_count": 18,
   "id": "aa0edf39",
   "metadata": {},
   "outputs": [],
   "source": [
    "s = \"Was it a car or a cat I saw\"\n",
    "# ''.join(ch for ch in s if not ch.isspace())"
   ]
  },
  {
   "cell_type": "code",
   "execution_count": 5,
   "id": "2e758a06",
   "metadata": {},
   "outputs": [
    {
     "data": {
      "text/plain": [
       "'WasitacaroracatIsaw'"
      ]
     },
     "execution_count": 5,
     "metadata": {},
     "output_type": "execute_result"
    }
   ],
   "source": [
    "s.replace(\" \", \"\")"
   ]
  },
  {
   "cell_type": "markdown",
   "id": "0b30db32",
   "metadata": {},
   "source": [
    "# Two Integer Sum II\n",
    "Given an array of integers numbers that is sorted in non-decreasing order.\n",
    "\n",
    "Return the indices (1-indexed) of two numbers, [index1, index2], such that they add up to a given target number target and index1 < index2. Note that index1 and index2 cannot be equal, therefore you may not use the same element twice.\n",
    "\n",
    "There will always be exactly one valid solution.\n",
    "\n",
    "Your solution must use \n",
    "O\n",
    "(\n",
    "1\n",
    ")\n",
    "O(1) additional space."
   ]
  },
  {
   "cell_type": "code",
   "execution_count": null,
   "id": "31c83846",
   "metadata": {},
   "outputs": [
    {
     "data": {
      "text/plain": [
       "[2, 3]"
      ]
     },
     "execution_count": 22,
     "metadata": {},
     "output_type": "execute_result"
    }
   ],
   "source": [
    "# using two pointers with O(n)-> time complexity and O(1) -> space complexity\n",
    "numbers = [1,2,3,4]\n",
    "target = 3\n",
    "\n",
    "numbers = [-3, -2, -1,4]\n",
    "target = 3\n",
    "def twoSum(numbers):\n",
    "    l = 0\n",
    "    r = len(numbers)-1\n",
    "\n",
    "    while l < r:\n",
    "        if numbers[l] + numbers[r]== target:\n",
    "            return [l+1,r+1]\n",
    "        if numbers[l] + numbers[r ] > target:\n",
    "            r -=1\n",
    "        else:\n",
    "            l +=1          \n",
    "    return []\n",
    "\n",
    "twoSum(numbers)\n",
    "\n"
   ]
  },
  {
   "cell_type": "code",
   "execution_count": null,
   "id": "a6f49c30",
   "metadata": {},
   "outputs": [],
   "source": [
    "# Two Sum II using binary search for each element\n",
    "def twoSum_binary_search(numbers, target):\n",
    "    for i in range(len(numbers)):\n",
    "        left, right = i + 1, len(numbers) - 1\n",
    "        complement = target - numbers[i]\n",
    "        # Binary search for complement\n",
    "        while left <= right:\n",
    "            mid = (left + right) // 2\n",
    "            if numbers[mid] == complement:\n",
    "                return [i + 1, mid + 1]  # 1-indexed\n",
    "            elif numbers[mid] < complement:\n",
    "                left = mid + 1\n",
    "            else:\n",
    "                right = mid - 1\n",
    "    return []\n",
    "numbers = [-3, -2, -1, 4]\n",
    "target = 3\n",
    "twoSum_binary_search(numbers, target)"
   ]
  },
  {
   "cell_type": "code",
   "execution_count": null,
   "id": "350357de",
   "metadata": {},
   "outputs": [],
   "source": [
    "# Uaing binary search: time complexity = O(nlogn), space O()\n",
    "nums = [1,2,3,4]\n",
    "def twoNumbers(nums):\n",
    "    l = 0\n",
    "    r = len(nums) - 1\n",
    "    while l < r:\n",
    "        if target - nums[l] == nums[r]:\n",
    "            return [l+1, r+1]\n",
    "        if target - nums[l] < nums[r]:\n",
    "            mid = (l + r)//2\n",
    "            \n",
    "\n"
   ]
  },
  {
   "cell_type": "markdown",
   "id": "f672d363",
   "metadata": {},
   "source": [
    "# Best Time to Buy and Sell Stock\n",
    "Solved \n",
    "You are given an integer array prices where prices[i] is the price of NeetCoin on the ith day.\n",
    "\n",
    "You may choose a single day to buy one NeetCoin and choose a different day in the future to sell it.\n",
    "\n",
    "Return the maximum profit you can achieve. You may choose to not make any transactions, in which case the profit would be 0.\n",
    "\n",
    "Example 1:\n",
    "\n",
    "Input: prices = [10,1,5,6,7,1]\n",
    "\n",
    "Output: 6\n",
    "Explanation: Buy prices[1] and sell prices[4], profit = 7 - 1 = 6.\n",
    "\n",
    "Example 2:\n",
    "\n",
    "Input: prices = [10,8,7,5,2]\n",
    "\n",
    "Output: 0\n",
    "Explanation: No profitable transactions can be made, thus the max profit is 0.\n",
    "\n",
    "Constraints:\n",
    "\n",
    "1 <= prices.length <= 100\n",
    "0 <= prices[i] <= 100\n"
   ]
  },
  {
   "cell_type": "code",
   "execution_count": null,
   "id": "2ca4ecac",
   "metadata": {},
   "outputs": [
    {
     "data": {
      "text/plain": [
       "7"
      ]
     },
     "execution_count": 25,
     "metadata": {},
     "output_type": "execute_result"
    }
   ],
   "source": [
    "prices = [2,1,4,3,2,7,8]\n",
    "\n",
    "# solution with dynamic programming\n",
    "\n",
    "def maxProfit(prices):\n",
    "    maxp = 0\n",
    "    minbuy = prices[0]\n",
    "\n",
    "    for sell in prices:\n",
    "        maxp = max(maxp , sell - minbuy)\n",
    "        minbuy = min(sell , minbuy)\n",
    "    return maxp\n",
    "\n",
    "maxProfit(prices)"
   ]
  },
  {
   "cell_type": "code",
   "execution_count": 30,
   "id": "f6b6f1e6",
   "metadata": {},
   "outputs": [
    {
     "data": {
      "text/plain": [
       "7"
      ]
     },
     "execution_count": 30,
     "metadata": {},
     "output_type": "execute_result"
    }
   ],
   "source": [
    "# solution with two pointers\n",
    "\n",
    "prices = [2,1,4,3,2,7,8]\n",
    "\n",
    "def maxProfit(prices):\n",
    "    maxp = 0\n",
    "    l = 0\n",
    "    r = 1\n",
    "\n",
    "    while r < len(prices):\n",
    "        maxp = max(maxp , prices[r] - prices[l])\n",
    "        if prices[l] > prices[r]:\n",
    "            l = r\n",
    "        else:\n",
    "            r +=1\n",
    "    return maxp\n",
    "\n",
    "maxProfit(prices)"
   ]
  },
  {
   "cell_type": "markdown",
   "id": "16a1c143",
   "metadata": {},
   "source": []
  },
  {
   "cell_type": "code",
   "execution_count": null,
   "id": "58e3eb45",
   "metadata": {},
   "outputs": [],
   "source": []
  }
 ],
 "metadata": {
  "kernelspec": {
   "display_name": ".venv",
   "language": "python",
   "name": "python3"
  },
  "language_info": {
   "codemirror_mode": {
    "name": "ipython",
    "version": 3
   },
   "file_extension": ".py",
   "mimetype": "text/x-python",
   "name": "python",
   "nbconvert_exporter": "python",
   "pygments_lexer": "ipython3",
   "version": "3.9.6"
  }
 },
 "nbformat": 4,
 "nbformat_minor": 5
}
