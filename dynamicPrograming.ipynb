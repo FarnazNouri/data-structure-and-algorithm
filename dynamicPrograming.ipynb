{
 "cells": [
  {
   "cell_type": "markdown",
   "id": "1119a721",
   "metadata": {},
   "source": [
    "# Climbing Stairs\n",
    "You are given an integer n representing the number of steps to reach the top of a staircase. You can climb with either 1 or 2 steps at a time.\n",
    "\n",
    "Return the number of distinct ways to climb to the top of the staircase.\n",
    "\n",
    "Example 1:\n",
    "\n",
    "Input: n = 2\n",
    "\n",
    "Output: 2\n",
    "Explanation:\n",
    "\n",
    "1 + 1 = 2\n",
    "2 = 2\n",
    "Example 2:\n",
    "\n",
    "Input: n = 3\n",
    "\n",
    "Output: 3\n",
    "Explanation:\n",
    "\n",
    "1 + 1 + 1 = 3\n",
    "1 + 2 = 3\n",
    "2 + 1 = 3\n",
    "Constraints:\n",
    "\n",
    "1 <= n <= 30"
   ]
  },
  {
   "cell_type": "code",
   "execution_count": 26,
   "id": "ddc2fdd6",
   "metadata": {},
   "outputs": [
    {
     "data": {
      "text/plain": [
       "3"
      ]
     },
     "execution_count": 26,
     "metadata": {},
     "output_type": "execute_result"
    }
   ],
   "source": [
    "def climbStairs(n):\n",
    "\n",
    "    one = 1\n",
    "    two = 1\n",
    "\n",
    "    for i in range(n-1):\n",
    "        temp = one\n",
    "        one = two + one\n",
    "        two = temp\n",
    "    return one\n",
    "\n",
    "    \n",
    "climbStairs(3)"
   ]
  },
  {
   "cell_type": "code",
   "execution_count": null,
   "id": "9f8d1b28",
   "metadata": {},
   "outputs": [],
   "source": [
    " # Dynamic Programming(Top-down)\n",
    "class Solution:\n",
    "    def climbStairs(self, n: int) -> int:\n",
    "        cache = [-1] * n\n",
    "        def dfs(i):\n",
    "            if i >= n:\n",
    "                return i == n\n",
    "            if cache[i] != -1:\n",
    "                return cache[i]\n",
    "            cache[i] = dfs(i + 1) + dfs(i + 2)\n",
    "            return cache[i]\n",
    "\n",
    "        return dfs(0)"
   ]
  },
  {
   "cell_type": "markdown",
   "id": "3d678ca1",
   "metadata": {},
   "source": [
    "## Creating a List of Odd Numbers from 1 to 8\n",
    "\n",
    "Here are several ways to create a list of odd numbers:"
   ]
  },
  {
   "cell_type": "code",
   "execution_count": null,
   "id": "70e206aa",
   "metadata": {},
   "outputs": [],
   "source": [
    "# Method 1: Using range() with step (most common)\n",
    "odd_numbers_1 = list(range(1, 9, 2))  # Start at 1, go up to 9 (exclusive), step by 2\n",
    "print(\"Method 1 - range(1, 9, 2):\", odd_numbers_1)\n",
    "\n",
    "# Method 2: Using numpy's arange (if you import numpy)\n",
    "import numpy as np\n",
    "odd_numbers_2 = list(np.arange(1, 9, 2))\n",
    "print(\"Method 2 - np.arange(1, 9, 2):\", odd_numbers_2)\n",
    "\n",
    "# Method 3: List comprehension with modulo\n",
    "odd_numbers_3 = [x for x in range(1, 9) if x % 2 == 1]\n",
    "print(\"Method 3 - list comprehension:\", odd_numbers_3)\n",
    "\n",
    "# Method 4: List comprehension with range and step\n",
    "odd_numbers_4 = [x for x in range(1, 9, 2)]\n",
    "print(\"Method 4 - comprehension with step:\", odd_numbers_4)\n",
    "\n",
    "# Method 5: Manual list\n",
    "odd_numbers_5 = [1, 3, 5, 7]\n",
    "print(\"Method 5 - manual:\", odd_numbers_5)\n",
    "\n",
    "# Method 6: Using filter\n",
    "odd_numbers_6 = list(filter(lambda x: x % 2 == 1, range(1, 9)))\n",
    "print(\"Method 6 - filter:\", odd_numbers_6)\n",
    "\n",
    "print(\"\\n🎯 All methods produce the same result:\", [1, 3, 5, 7])"
   ]
  },
  {
   "cell_type": "code",
   "execution_count": null,
   "id": "02145098",
   "metadata": {},
   "outputs": [],
   "source": []
  }
 ],
 "metadata": {
  "kernelspec": {
   "display_name": "Python 3",
   "language": "python",
   "name": "python3"
  },
  "language_info": {
   "codemirror_mode": {
    "name": "ipython",
    "version": 3
   },
   "file_extension": ".py",
   "mimetype": "text/x-python",
   "name": "python",
   "nbconvert_exporter": "python",
   "pygments_lexer": "ipython3",
   "version": "3.9.6"
  }
 },
 "nbformat": 4,
 "nbformat_minor": 5
}
