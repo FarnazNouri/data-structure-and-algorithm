{
 "cells": [
  {
   "cell_type": "markdown",
   "id": "84df9822",
   "metadata": {},
   "source": [
    "# Implement Trie (Prefix Tree)\n",
    "A prefix tree (also known as a trie) is a tree data structure used to efficiently store and retrieve keys in a set of strings. Some applications of this data structure include auto-complete and spell checker systems.\n",
    "\n",
    "Implement the PrefixTree class:\n",
    "\n",
    "PrefixTree() Initializes the prefix tree object.\n",
    "void insert(String word) Inserts the string word into the prefix tree.\n",
    "boolean search(String word) Returns true if the string word is in the prefix tree (i.e., was inserted before), and false otherwise.\n",
    "boolean startsWith(String prefix) Returns true if there is a previously inserted string word that has the prefix prefix, and false otherwise.\n",
    "Example 1:\n",
    "\n",
    "Input: \n",
    "[\"Trie\", \"insert\", \"dog\", \"search\", \"dog\", \"search\", \"do\", \"startsWith\", \"do\", \"insert\", \"do\", \"search\", \"do\"]\n",
    "\n",
    "Output:\n",
    "[null, null, true, false, true, null, true]\n",
    "\n",
    "Explanation:\n",
    "PrefixTree prefixTree = new PrefixTree();\n",
    "prefixTree.insert(\"dog\");\n",
    "prefixTree.search(\"dog\");    // return true\n",
    "prefixTree.search(\"do\");     // return false\n",
    "prefixTree.startsWith(\"do\"); // return true\n",
    "prefixTree.insert(\"do\");\n",
    "prefixTree.search(\"do\");     // return true"
   ]
  },
  {
   "cell_type": "code",
   "execution_count": null,
   "id": "02947db5",
   "metadata": {},
   "outputs": [],
   "source": [
    "class TrieNode:\n",
    "    def __init__(self):\n",
    "        self.children = {}\n",
    "        self.endOfWord = False\n",
    "\n",
    "class PrefixTree:\n",
    "\n",
    "    def __init__(self):\n",
    "        self.root = TrieNode()\n",
    "\n",
    "    def insert(self, word: str) -> None:\n",
    "        curr = self.root\n",
    "        for c in word:\n",
    "            if c not in curr.children:\n",
    "                curr.children[c] = TrieNode()\n",
    "            curr = curr.children[c]\n",
    "\n",
    "        curr.endOfWord = True\n",
    "\n",
    "    def search(self, word: str) -> bool:\n",
    "        curr = self.root\n",
    "\n",
    "        for c in word:\n",
    "            if c not in curr.children:\n",
    "                return False\n",
    "            curr.children[c]\n",
    "        return curr.endOfWord\n",
    "\n",
    "    def startsWith(self, prefix: str) -> bool:\n",
    "        curr = self.root\n",
    "\n",
    "        for c in prefix:\n",
    "            if c not in curr.children:\n",
    "                return False\n",
    "            curr.children[c]\n",
    "        return True\n",
    "        "
   ]
  },
  {
   "cell_type": "markdown",
   "id": "6a867065",
   "metadata": {},
   "source": []
  },
  {
   "cell_type": "markdown",
   "id": "d8b9010e",
   "metadata": {},
   "source": []
  }
 ],
 "metadata": {
  "language_info": {
   "name": "python"
  }
 },
 "nbformat": 4,
 "nbformat_minor": 5
}
