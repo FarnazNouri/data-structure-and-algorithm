{
 "cells": [
  {
   "cell_type": "markdown",
   "id": "0e3b4599",
   "metadata": {},
   "source": [
    "# Valid Parentheses\n",
    "You are given a string s consisting of the following characters: '(', ')', '{', '}', '[' and ']'.\n",
    "\n",
    "The input string s is valid if and only if:\n",
    "\n",
    "Every open bracket is closed by the same type of close bracket.\n",
    "Open brackets are closed in the correct order.\n",
    "Every close bracket has a corresponding open bracket of the same type.\n",
    "Return true if s is a valid string, and false otherwise.\n",
    "\n",
    "Example 1:\n",
    "\n",
    "Input: s = \"[]\"\n",
    "\n",
    "Output: true\n",
    "Example 2:\n",
    "\n",
    "Input: s = \"([{}])\"\n",
    "\n",
    "Output: true\n",
    "Example 3:\n",
    "\n",
    "Input: s = \"[(])\"\n",
    "\n",
    "Output: false"
   ]
  },
  {
   "cell_type": "code",
   "execution_count": 6,
   "id": "2dac71e8",
   "metadata": {},
   "outputs": [
    {
     "data": {
      "text/plain": [
       "True"
      ]
     },
     "execution_count": 6,
     "metadata": {},
     "output_type": "execute_result"
    }
   ],
   "source": [
    "s = \"[(])\"\n",
    "def isValid(s):\n",
    "    stk = []\n",
    "    for p in s:\n",
    "        if p == '(' or p == '{' or p == '[':\n",
    "            stk.append(p)\n",
    "        elif p == '}' or p == ']' or p ==')':\n",
    "            if len(stk) == 0:\n",
    "                return False\n",
    "            stk.pop()\n",
    "    if len(stk) > 0:\n",
    "        return False\n",
    "    return True\n",
    "\n",
    "isValid(s)"
   ]
  },
  {
   "cell_type": "code",
   "execution_count": null,
   "id": "64f9f1a3",
   "metadata": {},
   "outputs": [],
   "source": [
    "s = \"[(])\"\n",
    "def isValid(s):\n",
    "    stk = []\n",
    "    pr_dic = { ')':'(' , '}':'{' , ']':'[' }\n",
    "    \n",
    "    for p in s:\n",
    "        if p in pr_dic:\n",
    "            if stk and stk[-1] == pr_dic[p]:\n",
    "                stk.pop()\n",
    "            else:\n",
    "                return False\n",
    "        else:\n",
    "            stk.append(p)\n",
    "    return True if not stk else False\n",
    "\n",
    "\n",
    "        \n",
    "\n",
    "\n",
    "isValid(s)"
   ]
  }
 ],
 "metadata": {
  "kernelspec": {
   "display_name": "Python 3",
   "language": "python",
   "name": "python3"
  },
  "language_info": {
   "codemirror_mode": {
    "name": "ipython",
    "version": 3
   },
   "file_extension": ".py",
   "mimetype": "text/x-python",
   "name": "python",
   "nbconvert_exporter": "python",
   "pygments_lexer": "ipython3",
   "version": "3.9.6"
  }
 },
 "nbformat": 4,
 "nbformat_minor": 5
}
