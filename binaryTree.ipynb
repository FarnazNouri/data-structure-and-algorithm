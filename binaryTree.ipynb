{
 "cells": [
  {
   "cell_type": "markdown",
   "id": "67d7b9b7",
   "metadata": {},
   "source": [
    "# Maximum Depth of Binary Tree\n",
    "\n",
    "Solution\n",
    "Given the root of a binary tree, return its maximum depth.\n",
    "\n",
    "A binary tree's maximum depth is the number of nodes along the longest path from the root node down to the farthest leaf node.\n",
    "\n",
    "Input: root = [3,9,20,null,null,15,7]\n",
    "Output: 3\n"
   ]
  },
  {
   "cell_type": "code",
   "execution_count": null,
   "id": "7e32f0bf",
   "metadata": {},
   "outputs": [
    {
     "name": "stdout",
     "output_type": "stream",
     "text": [
      "6 -->\n",
      "3 -->\n",
      "8 -->\n",
      "5 -->\n",
      "4 -->\n",
      "3\n"
     ]
    }
   ],
   "source": [
    "class Node:\n",
    "    def __init__(self,key=0, left=None, right=None):\n",
    "        self.left = left\n",
    "        self.right= right\n",
    "        self.key = key\n",
    "    \n",
    "class Tree:\n",
    "    def __init__(self, root):\n",
    "        self.root = root\n",
    "\n",
    "    def inorder(self,node):\n",
    "        if self.root is None:\n",
    "            print('No tree')\n",
    "\n",
    "        if node:\n",
    "            self.inorder(node.left)\n",
    "            print(node.key, '-->')\n",
    "            self.inorder(node.right)\n",
    "        \n",
    "\n",
    "    def maxDepth(self,node):\n",
    "        if node is None:\n",
    "            return 0\n",
    "\n",
    "        left_tree= self.maxDepth(node.left)\n",
    "        right_tree = self.maxDepth(node.right)\n",
    "        return max(left_tree, right_tree)+1\n",
    "    \n",
    "    def isValisBST(self,root):\n",
    "        return self.validate(root, float('-inf'), float('inf'))\n",
    "    \n",
    "    def validate(self, root, low, high):\n",
    "        if low < root.val< high:\n",
    "            return False\n",
    "        if root is None:\n",
    "            return True\n",
    "        return (self.validate(root.left, low, root.val) and (self.validate(root.right, root.val, high)))\n",
    "    \n",
    "#*******************************\n",
    "# Binary Tree Level Order Traversal\n",
    "# Given the root of a binary tree, return the level order traversal of its nodes' values. (i.e., from left to right, level by level).\n",
    "# Input: root = [3,9,20,null,null,15,7]\n",
    "# Output: [[3],[9,20],[15,7]] \n",
    "#********************************\n",
    "\n",
    "    def levelOrder(self, root):\n",
    "        levels = []\n",
    "        if root is None:\n",
    "            return levels\n",
    "        \n",
    "        def helper(root, level):\n",
    "            if len(levels)== level:\n",
    "                levels.append([])\n",
    "            \n",
    "            levels[level].append(root.val)\n",
    "            \n",
    "            if root.left:\n",
    "                helper(root.left, level+1)\n",
    "            if root.right:\n",
    "                helper(root.right, level+1)\n",
    "\n",
    "        helper(root, 0)\n",
    "        return levels\n",
    "\n",
    "    def sortArrayToBST(self, nums):\n",
    "        if len(nums)==0:\n",
    "            return nums\n",
    "        def helper(left, right):\n",
    "            if left > right:\n",
    "                return None\n",
    "            p = (left + right) // 2\n",
    "            root = Node(nums[p])\n",
    "            root.left = helper(left, p-1)\n",
    "            root.right = helper(p+1, right)\n",
    "            return root\n",
    "        return helper(0,len(nums)-1)\n",
    "\n",
    "if __name__ == '__main__':\n",
    "    root = Node(5)\n",
    "    root.left= Node(3)\n",
    "    root.right= Node(4)\n",
    "    root.left.left=Node(6)\n",
    "    root.left.right=Node(8)\n",
    "\n",
    "    tree = Tree(root)\n",
    "    tree.inorder(tree.root)\n",
    "\n",
    "    print(tree.maxDepth(tree.root))\n",
    "\n"
   ]
  },
  {
   "cell_type": "markdown",
   "id": "7d885b30",
   "metadata": {},
   "source": [
    "# Binary Tree Level Order Traversal\n",
    "\n",
    "Solution\n",
    "Given the root of a binary tree, return the level order traversal of its nodes' values. (i.e., from left to right, level by level).\n",
    "Input: root = [3,9,20,null,null,15,7]\n",
    "Output: [[3],[9,20],[15,7]]\n",
    " "
   ]
  },
  {
   "cell_type": "code",
   "execution_count": null,
   "id": "382ba2c7",
   "metadata": {},
   "outputs": [],
   "source": [
    "def levelOrder(self, root):\n",
    "        levels = []\n",
    "        if root is None:\n",
    "            return levels\n",
    "        \n",
    "        def helper(root, level):\n",
    "            if len(levels)== level:\n",
    "                levels.append([])\n",
    "            \n",
    "            levels[level].append(root.val)\n",
    "            \n",
    "            if root.left:\n",
    "                helper(root.left, level+1)\n",
    "            if root.right:\n",
    "                helper(root.right, level+1)\n",
    "\n",
    "        helper(root, 0)   \n",
    "        return levels\n"
   ]
  },
  {
   "cell_type": "markdown",
   "id": "8d474aa4",
   "metadata": {},
   "source": [
    "# Convert Sorted Array to Binary Search Tree\n",
    "\n",
    "Given an integer array nums where the elements are sorted in ascending order, convert it to a height-balanced binary search tree.\n",
    "Input: nums = [-10,-3,0,5,9]\n",
    "Output: [0,-3,9,-10,null,5]\n",
    "Explanation: [0,-10,5,null,-3,null,9] is also accepted:"
   ]
  },
  {
   "cell_type": "code",
   "execution_count": 7,
   "id": "46a09595",
   "metadata": {},
   "outputs": [],
   "source": [
    "def sortArrayToBST(self, nums):\n",
    "        if len(nums)==0:\n",
    "            return nums\n",
    "        def helper(left, right):\n",
    "            if left > right:\n",
    "                return None\n",
    "            p = (left + right) // 2\n",
    "            root = Node(nums[p])\n",
    "            root.left = helper(left, p-1)\n",
    "            root.right = helper(p+1, right)\n",
    "            return root\n",
    "        return helper(0,len(nums)-1)"
   ]
  },
  {
   "cell_type": "markdown",
   "id": "32e6fc30",
   "metadata": {},
   "source": [
    "# Same Tree\n",
    "\n",
    "Given the roots of two binary trees p and q, write a function to check if they are the same or not.\n",
    "\n",
    "Two binary trees are considered the same if they are structurally identical, and the nodes have the same value."
   ]
  },
  {
   "cell_type": "code",
   "execution_count": null,
   "id": "f9befeed",
   "metadata": {},
   "outputs": [],
   "source": [
    "def isSameTree( p: Optional[TreeNode], q: Optional[TreeNode]):\n",
    "        return validate(p, q)\n",
    "def validate(self,p, q):\n",
    "\n",
    "    if p is None and q is None:\n",
    "        return True\n",
    "    if p is None or q is None:\n",
    "        return False\n",
    "    if p.val != q.val:\n",
    "        return False\n",
    "    return validate(p.left, q.left) and validate(p.right, q.right)"
   ]
  },
  {
   "cell_type": "markdown",
   "id": "0e537bc1",
   "metadata": {},
   "source": [
    "# find the diameter of the the binary tree.(the longest path)"
   ]
  },
  {
   "cell_type": "code",
   "execution_count": null,
   "id": "ca073e9c",
   "metadata": {},
   "outputs": [],
   "source": [
    "def diameterOfBinaryTree( root: Optional[TreeNode]) -> int:\n",
    "        res = 0\n",
    "        def dfs(node):\n",
    "            if not node:\n",
    "                return 0\n",
    "\n",
    "            nonlocal res\n",
    "            l = dfs(node.left)\n",
    "            r = dfs(node.right)\n",
    "\n",
    "            res = max(res, l+r)\n",
    "            return max(l,r)+1\n",
    "\n",
    "        dfs(root)\n",
    "        return res"
   ]
  },
  {
   "cell_type": "code",
   "execution_count": null,
   "id": "90dca150",
   "metadata": {},
   "outputs": [],
   "source": []
  },
  {
   "cell_type": "code",
   "execution_count": null,
   "id": "bf441d9f",
   "metadata": {},
   "outputs": [],
   "source": []
  }
 ],
 "metadata": {
  "kernelspec": {
   "display_name": ".venv",
   "language": "python",
   "name": "python3"
  },
  "language_info": {
   "codemirror_mode": {
    "name": "ipython",
    "version": 3
   },
   "file_extension": ".py",
   "mimetype": "text/x-python",
   "name": "python",
   "nbconvert_exporter": "python",
   "pygments_lexer": "ipython3",
   "version": "3.9.6"
  }
 },
 "nbformat": 4,
 "nbformat_minor": 5
}
