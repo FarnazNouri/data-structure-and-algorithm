{
 "cells": [
  {
   "cell_type": "markdown",
   "id": "f9455f27",
   "metadata": {},
   "source": [
    "# Binary Search Tree"
   ]
  },
  {
   "cell_type": "code",
   "execution_count": 19,
   "id": "df654bee",
   "metadata": {},
   "outputs": [
    {
     "name": "stdout",
     "output_type": "stream",
     "text": [
      "[17, 4, 1, 20, 9, 23, 18, 34]\n",
      "[1, 4, 9, 17, 18, 20, 23, 34]\n",
      "True\n"
     ]
    }
   ],
   "source": [
    "class BinarySearchTree:\n",
    "    def __init__(self, data):\n",
    "        self.data = data\n",
    "        self.left = None\n",
    "        self.right = None\n",
    "\n",
    "    def add_child(self, data):\n",
    "        if data == self.data:\n",
    "            return \n",
    "        \n",
    "        if data < self.data:\n",
    "            # data in left subtree\n",
    "            if self.left:\n",
    "                self.left.add_child(data)\n",
    "            else:\n",
    "                # left node is empty\n",
    "                self.left = BinarySearchTree(data)\n",
    "        else:\n",
    "            # data in right subtree\n",
    "            if self.right:\n",
    "                self.right.add_child(data)\n",
    "            else:\n",
    "                # right node is empty\n",
    "                self.right = BinarySearchTree(data)\n",
    "\n",
    "    def in_order_traversal(self):\n",
    "        # return a list of elements with in-order travers: left, root, right\n",
    "        elements = []\n",
    "\n",
    "        # visit left node\n",
    "        if self.left:\n",
    "            elements += self.left.in_order_traversal()\n",
    "        # visit base node\n",
    "        elements.append(self.data)\n",
    "\n",
    "        # visit right node\n",
    "        if self.right:\n",
    "            elements += self.right.in_order_traversal()\n",
    "\n",
    "        return elements\n",
    "\n",
    "    def search(self, val):\n",
    "        if val == self.data:\n",
    "            return True\n",
    "        if val < self.data:\n",
    "            # value might be in left subtree\n",
    "            if self.left:\n",
    "                return self.left.search(val)\n",
    "            else:\n",
    "                return False\n",
    "        else:\n",
    "            # value might be in right subtree \n",
    "            if self.right:\n",
    "                return self.right.search(val)  \n",
    "            else:\n",
    "                return False\n",
    "\n",
    "\n",
    "\n",
    "\n",
    "\n",
    "# a helper function to buil a binary search tree\n",
    "def build_tree(elements):\n",
    "    root = BinarySearchTree(elements[0])\n",
    "\n",
    "    for i in range(1, len(elements)):\n",
    "        root.add_child(elements[i])\n",
    "\n",
    "    return root\n",
    "\n",
    "if __name__ == '__main__':\n",
    "    numbers = [17,4,1,20,9,23,18,34]\n",
    "    print(numbers)\n",
    "    number_tree = build_tree(numbers)\n",
    "    print(number_tree.in_order_traversal())\n",
    "    print(number_tree.search(1))\n",
    "            \n"
   ]
  },
  {
   "cell_type": "code",
   "execution_count": 15,
   "id": "4254de08",
   "metadata": {},
   "outputs": [
    {
     "data": {
      "text/plain": [
       "{1, 2, 3, 4}"
      ]
     },
     "execution_count": 15,
     "metadata": {},
     "output_type": "execute_result"
    }
   ],
   "source": [
    "a = {1,2}\n",
    "a | {3,4}"
   ]
  },
  {
   "cell_type": "markdown",
   "id": "d5c4e20f",
   "metadata": {},
   "source": []
  },
  {
   "cell_type": "markdown",
   "id": "67d7b9b7",
   "metadata": {},
   "source": [
    "# Maximum Depth of Binary Tree\n",
    "\n",
    "Solution\n",
    "Given the root of a binary tree, return its maximum depth.\n",
    "\n",
    "A binary tree's maximum depth is the number of nodes along the longest path from the root node down to the farthest leaf node.\n",
    "\n",
    "Input: root = [3,9,20,null,null,15,7]\n",
    "Output: 3\n"
   ]
  },
  {
   "cell_type": "code",
   "execution_count": null,
   "id": "7e32f0bf",
   "metadata": {},
   "outputs": [
    {
     "name": "stdout",
     "output_type": "stream",
     "text": [
      "6 -->\n",
      "3 -->\n",
      "8 -->\n",
      "5 -->\n",
      "4 -->\n",
      "3\n"
     ]
    }
   ],
   "source": [
    "class Node:\n",
    "    def __init__(self,key=0, left=None, right=None):\n",
    "        self.left = left\n",
    "        self.right= right\n",
    "        self.key = key\n",
    "    \n",
    "class Tree:\n",
    "    def __init__(self, root):\n",
    "        self.root = root\n",
    "\n",
    "    def inorder(self,node):\n",
    "        if self.root is None:\n",
    "            print('No tree')\n",
    "\n",
    "        if node:\n",
    "            self.inorder(node.left)\n",
    "            print(node.key, '-->')\n",
    "            self.inorder(node.right)\n",
    "        \n",
    "\n",
    "    def maxDepth(self,node):\n",
    "        if node is None:\n",
    "            return 0\n",
    "\n",
    "        left_tree= self.maxDepth(node.left)\n",
    "        right_tree = self.maxDepth(node.right)\n",
    "        return max(left_tree, right_tree)+1\n",
    "    \n",
    "    def isValisBST(self,root):\n",
    "        return self.validate(root, float('-inf'), float('inf'))\n",
    "    \n",
    "    def validate(self, root, low, high):\n",
    "        if low < root.val< high:\n",
    "            return False\n",
    "        if root is None:\n",
    "            return True\n",
    "        return (self.validate(root.left, low, root.val) and (self.validate(root.right, root.val, high)))\n",
    "    \n",
    "#*******************************\n",
    "# Binary Tree Level Order Traversal\n",
    "# Given the root of a binary tree, return the level order traversal of its nodes' values. (i.e., from left to right, level by level).\n",
    "# Input: root = [3,9,20,null,null,15,7]\n",
    "# Output: [[3],[9,20],[15,7]] \n",
    "#********************************\n",
    "\n",
    "    def levelOrder(self, root):\n",
    "        levels = []\n",
    "        if root is None:\n",
    "            return levels\n",
    "        \n",
    "        def helper(root, level):\n",
    "            if len(levels)== level:\n",
    "                levels.append([])\n",
    "            \n",
    "            levels[level].append(root.val)\n",
    "            \n",
    "            if root.left:\n",
    "                helper(root.left, level+1)\n",
    "            if root.right:\n",
    "                helper(root.right, level+1)\n",
    "\n",
    "        helper(root, 0)\n",
    "        return levels\n",
    "\n",
    "    def sortArrayToBST(self, nums):\n",
    "        if len(nums)==0:\n",
    "            return nums\n",
    "        def helper(left, right):\n",
    "            if left > right:\n",
    "                return None\n",
    "            p = (left + right) // 2\n",
    "            root = Node(nums[p])\n",
    "            root.left = helper(left, p-1)\n",
    "            root.right = helper(p+1, right)\n",
    "            return root\n",
    "        return helper(0,len(nums)-1)\n",
    "\n",
    "if __name__ == '__main__':\n",
    "    root = Node(5)\n",
    "    root.left= Node(3)\n",
    "    root.right= Node(4)\n",
    "    root.left.left=Node(6)\n",
    "    root.left.right=Node(8)\n",
    "\n",
    "    tree = Tree(root)\n",
    "    tree.inorder(tree.root)\n",
    "\n",
    "    print(tree.maxDepth(tree.root))\n",
    "\n"
   ]
  },
  {
   "cell_type": "markdown",
   "id": "7d885b30",
   "metadata": {},
   "source": [
    "# Binary Tree Level Order Traversal\n",
    "\n",
    "Solution\n",
    "Given the root of a binary tree, return the level order traversal of its nodes' values. (i.e., from left to right, level by level).\n",
    "Input: root = [3,9,20,null,null,15,7]\n",
    "Output: [[3],[9,20],[15,7]]\n",
    " "
   ]
  },
  {
   "cell_type": "code",
   "execution_count": null,
   "id": "382ba2c7",
   "metadata": {},
   "outputs": [],
   "source": [
    "def levelOrder(self, root):\n",
    "        levels = []\n",
    "        if root is None:\n",
    "            return levels\n",
    "        \n",
    "        def helper(root, level):\n",
    "            if len(levels)== level:\n",
    "                levels.append([])\n",
    "            \n",
    "            levels[level].append(root.val)\n",
    "            \n",
    "            if root.left:\n",
    "                helper(root.left, level+1)\n",
    "            if root.right:\n",
    "                helper(root.right, level+1)\n",
    "\n",
    "        helper(root, 0)   \n",
    "        return levels\n"
   ]
  },
  {
   "cell_type": "markdown",
   "id": "8d474aa4",
   "metadata": {},
   "source": [
    "# Convert Sorted Array to Binary Search Tree\n",
    "\n",
    "Given an integer array nums where the elements are sorted in ascending order, convert it to a height-balanced binary search tree.\n",
    "Input: nums = [-10,-3,0,5,9]\n",
    "Output: [0,-3,9,-10,null,5]\n",
    "Explanation: [0,-10,5,null,-3,null,9] is also accepted:"
   ]
  },
  {
   "cell_type": "code",
   "execution_count": 7,
   "id": "46a09595",
   "metadata": {},
   "outputs": [],
   "source": [
    "def sortArrayToBST(self, nums):\n",
    "        if len(nums)==0:\n",
    "            return nums\n",
    "        def helper(left, right):\n",
    "            if left > right:\n",
    "                return None\n",
    "            p = (left + right) // 2\n",
    "            root = Node(nums[p])\n",
    "            root.left = helper(left, p-1)\n",
    "            root.right = helper(p+1, right)\n",
    "            return root\n",
    "        return helper(0,len(nums)-1)"
   ]
  },
  {
   "cell_type": "markdown",
   "id": "32e6fc30",
   "metadata": {},
   "source": [
    "# Same Tree\n",
    "\n",
    "Given the roots of two binary trees p and q, write a function to check if they are the same or not.\n",
    "\n",
    "Two binary trees are considered the same if they are structurally identical, and the nodes have the same value."
   ]
  },
  {
   "cell_type": "code",
   "execution_count": null,
   "id": "f9befeed",
   "metadata": {},
   "outputs": [],
   "source": [
    "def isSameTree( p: Optional[TreeNode], q: Optional[TreeNode]):\n",
    "        return validate(p, q)\n",
    "def validate(self,p, q):\n",
    "\n",
    "    if p is None and q is None:\n",
    "        return True\n",
    "    if p is None or q is None:\n",
    "        return False\n",
    "    if p.val != q.val:\n",
    "        return False\n",
    "    return validate(p.left, q.left) and validate(p.right, q.right)"
   ]
  },
  {
   "cell_type": "markdown",
   "id": "0e537bc1",
   "metadata": {},
   "source": [
    "# find the diameter of the the binary tree.(the longest path)"
   ]
  },
  {
   "cell_type": "code",
   "execution_count": null,
   "id": "ca073e9c",
   "metadata": {},
   "outputs": [],
   "source": [
    "def diameterOfBinaryTree( root: Optional[TreeNode]) -> int:\n",
    "        res = 0\n",
    "        def dfs(node):\n",
    "            if not node:\n",
    "                return 0\n",
    "\n",
    "            nonlocal res\n",
    "            l = dfs(node.left)\n",
    "            r = dfs(node.right)\n",
    "\n",
    "            res = max(res, l+r)\n",
    "            return max(l,r)+1\n",
    "\n",
    "        dfs(root)\n",
    "        return res"
   ]
  },
  {
   "cell_type": "markdown",
   "id": "98e3c09e",
   "metadata": {},
   "source": [
    "# binary search"
   ]
  },
  {
   "cell_type": "code",
   "execution_count": 2,
   "id": "90dca150",
   "metadata": {},
   "outputs": [
    {
     "data": {
      "text/plain": [
       "3"
      ]
     },
     "execution_count": 2,
     "metadata": {},
     "output_type": "execute_result"
    }
   ],
   "source": [
    "nums = [-1,2,3,5,6,7]\n",
    "target = 5\n",
    "\n",
    "def search(nums, target):\n",
    "    l = 0\n",
    "    r = len(nums)-1\n",
    "    \n",
    "    while l <= r:\n",
    "        if nums[l] == target:\n",
    "            return l\n",
    "        if nums[r] == target:\n",
    "            return r\n",
    "        \n",
    "        mid = (l + r)//2\n",
    "        if target == nums[mid]:\n",
    "            return mid\n",
    "        if nums[mid] < target:\n",
    "            l = mid + 1\n",
    "        else:\n",
    "            r = mid -1\n",
    "    return -1\n",
    "\n",
    "search(nums, target)"
   ]
  },
  {
   "cell_type": "markdown",
   "id": "3a5a16b7",
   "metadata": {},
   "source": [
    "# Search a 2D Matrix\n",
    "You are given an m x n 2-D integer array matrix and an integer target.\n",
    "\n",
    "Each row in matrix is sorted in non-decreasing order.\n",
    "The first integer of every row is greater than the last integer of the previous row.\n",
    "Return true if target exists within matrix or false otherwise.\n",
    "\n",
    "Can you write a solution that runs in O(log(m * n)) time?\n",
    "\n",
    "Example 1:\n",
    "\n",
    "\n",
    "\n",
    "Input: matrix = [[1,2,4,8],[10,11,12,13],[14,20,30,40]], target = 10\n",
    "\n",
    "Output: true\n",
    "Example 2:\n",
    "\n",
    "\n",
    "\n",
    "Input: matrix = [[1,2,4,8],[10,11,12,13],[14,20,30,40]], target = 15\n",
    "\n",
    "Output: false\n",
    "Constraints:\n",
    "\n",
    "m == matrix.length\n",
    "n == matrix[i].length\n",
    "1 <= m, n <= 100\n",
    "-10000 <= matrix[i][j], target <= 10000"
   ]
  },
  {
   "cell_type": "code",
   "execution_count": 18,
   "id": "8487db3e",
   "metadata": {},
   "outputs": [
    {
     "data": {
      "text/plain": [
       "True"
      ]
     },
     "execution_count": 18,
     "metadata": {},
     "output_type": "execute_result"
    }
   ],
   "source": [
    "\n",
    "matrix = [[1,3,5,7],[10,11,16,20],[23,30,34,50]]\n",
    "target = 5\n",
    "\n",
    "def searchMatrix(matrix, target):\n",
    "    if (matrix[0][0] > target) or (matrix[-1][-1] < target):\n",
    "        return False\n",
    "    for mat in matrix:\n",
    "        if mat[-1] < target:\n",
    "            continue\n",
    "        else:\n",
    "            l , r = 0 , len(mat)-1\n",
    "            if target == mat[l] or target == mat[r]:\n",
    "                return True\n",
    "            while l < r:\n",
    "                mid = (l + r) // 2\n",
    "                if target < mat[mid]:\n",
    "                    r = mid - 1\n",
    "                elif target > mat[mid]:\n",
    "                    l = mid + 1\n",
    "                else:\n",
    "                    return True\n",
    "    return False\n",
    "\n",
    "searchMatrix(matrix, target)"
   ]
  },
  {
   "cell_type": "code",
   "execution_count": 20,
   "id": "42beb5a9",
   "metadata": {},
   "outputs": [
    {
     "data": {
      "text/plain": [
       "True"
      ]
     },
     "execution_count": 20,
     "metadata": {},
     "output_type": "execute_result"
    }
   ],
   "source": [
    "# Optimized O(log(m) + log(n)) search for a 2D matrix\n",
    "def searchMatrixOptimized(matrix, target):\n",
    "    if matrix[0][0] > target or matrix[-1][-1] < target:\n",
    "        return False\n",
    "\n",
    "    ROWS, COLS = len(matrix), len(matrix[0])\n",
    "    top, bot = 0, ROWS -1\n",
    "    \n",
    "    while top <= bot:\n",
    "        row = (top + bot) // 2\n",
    "        if target < matrix[row][0]:\n",
    "            bot = row - 1\n",
    "        elif target> matrix[row][-1]:\n",
    "            top = row + 1\n",
    "        else:\n",
    "            break\n",
    "    if not (row <= bot):\n",
    "        return False\n",
    "\n",
    "    row = (top + bot) // 2\n",
    "    l , r = 0 , COLS - 1\n",
    "    while l <= r:\n",
    "        mid = (l + r)//2\n",
    "\n",
    "        if target < matrix[row][mid]:\n",
    "            r = mid - 1\n",
    "        elif target > matrix[row][mid]:\n",
    "            l = mid + 1\n",
    "        else:\n",
    "            return True\n",
    "    return False\n",
    "\n",
    "searchMatrix(matrix, target)"
   ]
  },
  {
   "cell_type": "code",
   "execution_count": 15,
   "id": "bf441d9f",
   "metadata": {},
   "outputs": [
    {
     "data": {
      "text/plain": [
       "50"
      ]
     },
     "execution_count": 15,
     "metadata": {},
     "output_type": "execute_result"
    }
   ],
   "source": [
    "matrix = [[1,3,5,7],[10,11,16,20],[23,30,34,50]]\n",
    "matrix[-1][-1]"
   ]
  },
  {
   "cell_type": "markdown",
   "id": "bb49493d",
   "metadata": {},
   "source": [
    "# Invert Binary Tree\n",
    "You are given the root of a binary tree root. Invert the binary tree and return its root.\n",
    "\n",
    "Example 1:\n",
    "\n",
    "\n",
    "\n",
    "Input: root = [1,2,3,4,5,6,7]\n",
    "\n",
    "Output: [1,3,2,7,6,5,4]\n",
    "Example 2:\n",
    "\n",
    "\n",
    "\n",
    "Input: root = [3,2,1]\n",
    "\n",
    "Output: [3,1,2]\n",
    "Example 3:\n",
    "\n",
    "Input: root = []\n",
    "\n",
    "Output: []\n",
    "Constraints:\n",
    "\n",
    "0 <= The number of nodes in the tree <= 100.\n",
    "-100 <= Node.val <= 100\n",
    "\n"
   ]
  },
  {
   "cell_type": "code",
   "execution_count": null,
   "id": "eadfada5",
   "metadata": {},
   "outputs": [],
   "source": [
    "# Depth First Search\n",
    "\n",
    "def invertTree(root):\n",
    "    if not root:  # Base case: if node is None\n",
    "        return None\n",
    "    \n",
    "    # Swap left and right children\n",
    "    root.left, root.right = root.right, root.left\n",
    "    \n",
    "    # Recursively invert left and right subtrees\n",
    "    invertTree(root.left)\n",
    "    invertTree(root.right)\n",
    "    \n",
    "    return root"
   ]
  },
  {
   "cell_type": "code",
   "execution_count": null,
   "id": "443cc056",
   "metadata": {},
   "outputs": [],
   "source": [
    "# Breadth First Search\n",
    "from collections import deque\n",
    "\n",
    "def invertTree(root):\n",
    "    if not root:\n",
    "        return None\n",
    "    queue = deque([root])\n",
    "    while queue:\n",
    "        node = queue.popleft()\n",
    "        node.left, node.right = node.right, node.left\n",
    "        if node.left:\n",
    "            queue.append(node.left)\n",
    "        if node.right:\n",
    "            queue.append(node.right)\n",
    "    return root"
   ]
  },
  {
   "cell_type": "markdown",
   "id": "2604747b",
   "metadata": {},
   "source": [
    "# Maximum Depth of Binary Tree\n",
    "Solved \n",
    "Given the root of a binary tree, return its depth.\n",
    "\n",
    "The depth of a binary tree is defined as the number of nodes along the longest path from the root node down to the farthest leaf node.\n",
    "\n",
    "Example 1:\n",
    "\n",
    "\n",
    "\n",
    "Input: root = [1,2,3,null,null,4]\n",
    "\n",
    "Output: 3\n",
    "Example 2:\n",
    "\n",
    "Input: root = []\n",
    "\n",
    "Output: 0\n",
    "Constraints:\n",
    "\n",
    "0 <= The number of nodes in the tree <= 100.\n",
    "-100 <= Node.val <= 100\""
   ]
  },
  {
   "cell_type": "code",
   "execution_count": null,
   "id": "acb729e8",
   "metadata": {},
   "outputs": [],
   "source": [
    "# Recursive DFS : Time complexity = O(n), space complexity = O(h)\n",
    "'''Best Case (balanced tree):O(log(n))\n",
    "    Worst Case (degenerated tree): O(n )'''\n",
    "def maxDepth(root):\n",
    "    if not root:\n",
    "        return 0\n",
    "\n",
    "    return 1 + max(maxDepth(root.left),maxDepth(root.right))"
   ]
  },
  {
   "cell_type": "code",
   "execution_count": null,
   "id": "a946e91c",
   "metadata": {},
   "outputs": [],
   "source": [
    "# 2. Iterative DFS (Stack)\n",
    "'''Time & Space Complexity\n",
    "Time complexity: O(n)\n",
    "Space complexity: O(n)'''\n",
    "def maxDepth(root):\n",
    "    stack = [[root, 1]]\n",
    "    res = 0\n",
    "\n",
    "    while stack:\n",
    "        node, depth = stack.pop()\n",
    "\n",
    "        if node:\n",
    "            res = max(res, depth)\n",
    "            stack.append([node.left, depth + 1])\n",
    "            stack.append([node.right, depth + 1])\n",
    "    return res\n"
   ]
  },
  {
   "cell_type": "code",
   "execution_count": null,
   "id": "c8076451",
   "metadata": {},
   "outputs": [],
   "source": []
  },
  {
   "cell_type": "code",
   "execution_count": null,
   "id": "0401b368",
   "metadata": {},
   "outputs": [],
   "source": [
    "    \n",
    "# 3. Breadth First Search\n",
    "'''Time complexity: O(n)\n",
    "Space complexity: O(n)'''\n",
    "\n",
    "def maxDepth(self, root: Optional[TreeNode]) -> int:\n",
    "    q = deque()\n",
    "    if root:\n",
    "        q.append(root)\n",
    "\n",
    "    level = 0\n",
    "    while q:\n",
    "        for i in range(len(q)):\n",
    "            node = q.popleft()\n",
    "            if node.left:\n",
    "                q.append(node.left)\n",
    "            if node.right:\n",
    "                q.append(node.right)\n",
    "        level += 1\n",
    "    return level"
   ]
  },
  {
   "cell_type": "markdown",
   "id": "ed220061",
   "metadata": {},
   "source": [
    "# Diameter of Binary Tree\n",
    "Solved \n",
    "The diameter of a binary tree is defined as the length of the longest path between any two nodes within the tree. The path does not necessarily have to pass through the root.\n",
    "\n",
    "The length of a path between two nodes in a binary tree is the number of edges between the nodes. Note that the path can not include the same node twice.\n",
    "\n",
    "Given the root of a binary tree root, return the diameter of the tree.\n",
    "\n",
    "Example 1:\n",
    "\n",
    "\n",
    "\n",
    "Input: root = [1,null,2,3,4,5]\n",
    "\n",
    "Output: 3\n",
    "Explanation: 3 is the length of the path [1,2,3,5] or [5,3,2,4].\n",
    "\n",
    "Example 2:\n",
    "\n",
    "Input: root = [1,2,3]\n",
    "\n",
    "Output: 2\n",
    "Constraints:"
   ]
  },
  {
   "cell_type": "code",
   "execution_count": null,
   "id": "13ee382d",
   "metadata": {},
   "outputs": [],
   "source": [
    "# DFS O(n) and space: O(h) -> h is the height of the tree\n",
    "\n",
    "def diameterOfBinaryTree(root) -> int:\n",
    "    res = 0\n",
    "\n",
    "    def dfs(root):\n",
    "        nonlocal res\n",
    "\n",
    "        if not root:\n",
    "            return 0\n",
    "        left = dfs(root.left)\n",
    "        right = dfs(root.right)\n",
    "        res = max(res, left + right)\n",
    "\n",
    "        return 1 + max(left, right)\n",
    "\n",
    "    dfs(root)\n",
    "    return res"
   ]
  },
  {
   "cell_type": "markdown",
   "id": "9da42bc2",
   "metadata": {},
   "source": []
  },
  {
   "cell_type": "code",
   "execution_count": null,
   "id": "3f83e562",
   "metadata": {},
   "outputs": [],
   "source": [
    "# Iterative DFS\n",
    "def diameterOfBinaryTree(root) -> int:\n",
    "    stack = [root]\n",
    "    mp = {None: (0, 0)}\n",
    "\n",
    "    while stack:\n",
    "        node = stack[-1]\n",
    "\n",
    "        if node.left and node.left not in mp:\n",
    "            stack.append(node.left)\n",
    "        elif node.right and node.right not in mp:\n",
    "            stack.append(node.right)\n",
    "        else:\n",
    "            node = stack.pop()\n",
    "\n",
    "            leftHeight, leftDiameter = mp[node.left]\n",
    "            rightHeight, rightDiameter = mp[node.right]\n",
    "\n",
    "            mp[node] = (1 + max(leftHeight, rightHeight),\n",
    "                        max(leftHeight + rightHeight, leftDiameter, rightDiameter))\n",
    "\n",
    "    return mp[root][1]"
   ]
  }
 ],
 "metadata": {
  "kernelspec": {
   "display_name": "Python 3",
   "language": "python",
   "name": "python3"
  },
  "language_info": {
   "codemirror_mode": {
    "name": "ipython",
    "version": 3
   },
   "file_extension": ".py",
   "mimetype": "text/x-python",
   "name": "python",
   "nbconvert_exporter": "python",
   "pygments_lexer": "ipython3",
   "version": "3.9.6"
  }
 },
 "nbformat": 4,
 "nbformat_minor": 5
}
