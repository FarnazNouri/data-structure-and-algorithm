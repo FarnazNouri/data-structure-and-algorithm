{
 "cells": [
  {
   "cell_type": "markdown",
   "id": "49c720ec",
   "metadata": {},
   "source": [
    "# Hash Table"
   ]
  },
  {
   "cell_type": "code",
   "execution_count": null,
   "id": "06b3504a",
   "metadata": {},
   "outputs": [],
   "source": [
    "def get_hash(key):\n",
    "    h = 0\n",
    "    for ch in key:\n",
    "        h += ord(ch) # ord(ch) getting the askii value of the character\n",
    "    return h % 100\n",
    "\n"
   ]
  },
  {
   "cell_type": "markdown",
   "id": "d0b77da5",
   "metadata": {},
   "source": [
    "# Hashtable without collision handeling"
   ]
  },
  {
   "cell_type": "code",
   "execution_count": null,
   "id": "58aaf13d",
   "metadata": {},
   "outputs": [],
   "source": [
    "class HashTable:\n",
    "    def __init__(self):\n",
    "        self.MAX = 100\n",
    "        self.arr = [None for i in range(self.MAX)]\n",
    "\n",
    "    def get_hash(self, key):\n",
    "        h = 0\n",
    "        for ch in key:\n",
    "            h += ord(ch) # ord(ch) getting the askii value of the character\n",
    "        return h % self.MAX\n",
    "\n",
    "    # def add_key_value(self, key, value):\n",
    "    #     self.arr[self.get_hash(key)] = value\n",
    "\n",
    "    def __setitem__(self, key, value):\n",
    "        self.arr[self.get_hash(key)] = value\n",
    "\n",
    "    def get(self, key):\n",
    "        return self.arr[self.get_hash(key)]\n",
    "\n",
    "    def __getitem__(self, key):\n",
    "        return self.arr[self.get_hash(key)]\n",
    "\n",
    "    def __delitem__(self, key):\n",
    "        self.arr[self.get_hash(key)] = None\n",
    "\n"
   ]
  },
  {
   "cell_type": "code",
   "execution_count": null,
   "id": "42ea4890",
   "metadata": {},
   "outputs": [],
   "source": [
    "t = HashTable()\n",
    "t.get_hash('march 6')\n"
   ]
  },
  {
   "cell_type": "code",
   "execution_count": null,
   "id": "d68198ef",
   "metadata": {},
   "outputs": [],
   "source": [
    "# t.add_key_value('march 6', 44)\n",
    "t['march 8'] = 88"
   ]
  },
  {
   "cell_type": "code",
   "execution_count": null,
   "id": "9b87859b",
   "metadata": {},
   "outputs": [],
   "source": [
    "t.get('march 8')"
   ]
  },
  {
   "cell_type": "code",
   "execution_count": null,
   "id": "fd050acc",
   "metadata": {},
   "outputs": [],
   "source": [
    "t['march 8']"
   ]
  },
  {
   "cell_type": "code",
   "execution_count": null,
   "id": "9777963f",
   "metadata": {},
   "outputs": [],
   "source": [
    "t.arr"
   ]
  },
  {
   "cell_type": "code",
   "execution_count": null,
   "id": "56667b9e",
   "metadata": {},
   "outputs": [],
   "source": [
    "t.get('march 8')"
   ]
  },
  {
   "cell_type": "markdown",
   "id": "af79ac55",
   "metadata": {},
   "source": [
    "# Hash table with collistion Handeling"
   ]
  },
  {
   "cell_type": "code",
   "execution_count": null,
   "id": "aaef7fd7",
   "metadata": {},
   "outputs": [],
   "source": [
    "class HashTable:\n",
    "    def __init__(self):\n",
    "        self.MAX = 10\n",
    "        self.arr = [[] for i in range(self.MAX)]\n",
    "\n",
    "    def get_hash(self, key):\n",
    "        h = 0\n",
    "        for ch in key:\n",
    "            h += ord(ch) # ord(ch) getting the askii value of the character\n",
    "        return h % self.MAX\n",
    "\n",
    "    def __setitem__(self, key, value):\n",
    "        h = self.get_hash(key)\n",
    "        found = False\n",
    "        for idx, element in enumerate(self.arr[h]):\n",
    "            if len(element)==2 and element[0]== key:\n",
    "                self.arr[h][idx] = (key,value)\n",
    "                found = True\n",
    "                break\n",
    "        if not found:\n",
    "            self.arr[h].append((key,value))\n",
    "\n",
    "\n",
    "    def __getitem__(self, key):\n",
    "        h = self.get_hash(key)\n",
    "        for idx, element in enumerate(self.arr[h]):\n",
    "            if element[0] == key:\n",
    "                return element[1]\n",
    "        return None\n",
    "\n",
    "    def __delitem__(self, key):\n",
    "        h = self.get_hash(key)\n",
    "        for idx, element in enumerate(self.arr[h]):\n",
    "            if element[0] == key:\n",
    "                del self.arr[h][idx]\n",
    "                \n",
    "        \n",
    "\n"
   ]
  },
  {
   "cell_type": "code",
   "execution_count": null,
   "id": "50c46fd1",
   "metadata": {},
   "outputs": [],
   "source": [
    "t = HashTable()"
   ]
  },
  {
   "cell_type": "code",
   "execution_count": null,
   "id": "becd240e",
   "metadata": {},
   "outputs": [],
   "source": [
    "t['march 6'] = 1\n",
    "t['march 8'] = 2\n",
    "t['march 17'] = 3\n",
    "t['march 3'] = 4\n",
    "t['march 21'] = 5\n",
    "t['march 22'] = 6\n",
    "t['abc'] = 7\n",
    "t['cab']=8"
   ]
  },
  {
   "cell_type": "code",
   "execution_count": null,
   "id": "27276687",
   "metadata": {},
   "outputs": [],
   "source": [
    "t.get_hash('abc')"
   ]
  },
  {
   "cell_type": "code",
   "execution_count": null,
   "id": "1bfc4995",
   "metadata": {},
   "outputs": [],
   "source": [
    "t.arr"
   ]
  },
  {
   "cell_type": "code",
   "execution_count": null,
   "id": "0e0cccf9",
   "metadata": {},
   "outputs": [],
   "source": [
    "t['abc']"
   ]
  },
  {
   "cell_type": "code",
   "execution_count": null,
   "id": "d11ce525",
   "metadata": {},
   "outputs": [],
   "source": [
    "del t['abc']"
   ]
  },
  {
   "cell_type": "code",
   "execution_count": null,
   "id": "d2f0fde6",
   "metadata": {},
   "outputs": [],
   "source": [
    "t.arr"
   ]
  },
  {
   "cell_type": "markdown",
   "id": "15c38c11",
   "metadata": {},
   "source": [
    "# Contains Duplicate\n",
    "Given an integer array nums, return true if any value appears more than once in the array, otherwise return false."
   ]
  },
  {
   "cell_type": "code",
   "execution_count": null,
   "id": "671305d4",
   "metadata": {},
   "outputs": [],
   "source": [
    "nums = [1,2,3,3]\n",
    "def find_duplicates(nums):\n",
    "\n",
    "    dic = {}\n",
    "    for i in nums:\n",
    "        if i in dic:\n",
    "            return True\n",
    "        else:\n",
    "            dic[i] = 1\n",
    "\n",
    "    return False\n",
    "\n",
    "find_duplicates(nums)\n"
   ]
  },
  {
   "cell_type": "code",
   "execution_count": null,
   "id": "0ec34b5e",
   "metadata": {},
   "outputs": [],
   "source": [
    "nums = [1,2,3,4]\n",
    "def find_duplicates(nums):\n",
    "\n",
    "    if len(set(nums)) == len(nums):\n",
    "        return False\n",
    "    return True\n",
    "    \n",
    "find_duplicates(nums)"
   ]
  },
  {
   "cell_type": "markdown",
   "id": "f4a6666f",
   "metadata": {},
   "source": [
    "# Count Character Frequency\n",
    "Given a string, create a dictionary that counts how many times each character appears."
   ]
  },
  {
   "cell_type": "code",
   "execution_count": null,
   "id": "95e75c64",
   "metadata": {},
   "outputs": [],
   "source": [
    "mystr = 'hello ali janam'\n",
    "\n",
    "def count_character_frequency(mystr):\n",
    "    dic = {}\n",
    "    for s in mystr:\n",
    "        if s in dic:\n",
    "            dic[s]+=1\n",
    "        else:\n",
    "            dic[s]=1\n",
    "\n",
    "    print(dic)\n",
    "count_character_frequency(mystr)            "
   ]
  },
  {
   "cell_type": "markdown",
   "id": "cd96313b",
   "metadata": {},
   "source": [
    "# Invert a Dictionary\n",
    "Given a dictionary, create a new dictionary that swaps keys and values."
   ]
  },
  {
   "cell_type": "code",
   "execution_count": null,
   "id": "e10de89a",
   "metadata": {},
   "outputs": [],
   "source": [
    "dic = {\n",
    "    'ali': 3,\n",
    "    'nazi': 4,\n",
    "    'akbar': 2,\n",
    "    'mahtab': 5,\n",
    "    'farnaz': 3\n",
    "\n",
    "}\n",
    "\n",
    "def invert_dic(dic):\n",
    "    new_dic = {}\n",
    "    for key, val in dic.items():\n",
    "        if val in new_dic:\n",
    "            new_dic[val].append(key)\n",
    "        else:\n",
    "            new_dic[val] = [key]\n",
    "    return new_dic\n",
    "\n",
    "invert_dic(dic)"
   ]
  },
  {
   "cell_type": "markdown",
   "id": "9c0fc535",
   "metadata": {},
   "source": [
    "# Find Most Frequent Element\n",
    "Given a list of numbers, use a dictionary to find the element that"
   ]
  },
  {
   "cell_type": "code",
   "execution_count": 198,
   "id": "cc3d4e87",
   "metadata": {},
   "outputs": [
    {
     "name": "stdout",
     "output_type": "stream",
     "text": [
      "4 : 5\n"
     ]
    }
   ],
   "source": [
    "nums = [1,2,3,4,1,3,4,1,1,4,4,4,5]\n",
    "\n",
    "def find_most_freq_elem(nums):\n",
    "    dic = {}\n",
    "    max_val = 0\n",
    "    for num in nums:\n",
    "        if num in dic:\n",
    "            dic[num] +=1\n",
    "            if dic[num] > max_val:\n",
    "                max_val = dic[num]\n",
    "                max_key = num\n",
    "        else:\n",
    "            dic[num] = 1\n",
    "            if max_val < 1:\n",
    "                max_val =1\n",
    "                max_key = num\n",
    "    print(max_key, ':', max_val)\n",
    "\n",
    "    \n",
    "find_most_freq_elem(nums)\n",
    "\n",
    "        \n",
    "        "
   ]
  },
  {
   "cell_type": "code",
   "execution_count": 200,
   "id": "c66c380e",
   "metadata": {},
   "outputs": [
    {
     "name": "stdout",
     "output_type": "stream",
     "text": [
      "4 : 5\n"
     ]
    }
   ],
   "source": [
    "def find_most_freq_elem(nums):\n",
    "    dic = {}\n",
    "    for num in nums:\n",
    "        dic[num] = dic.get(num,0) + 1\n",
    "    max_key = max(dic, key=dic.get)\n",
    "    print(max_key, ':' , dic[max_key])\n",
    "\n",
    "find_most_freq_elem(nums)\n"
   ]
  },
  {
   "cell_type": "markdown",
   "id": "b3eea498",
   "metadata": {},
   "source": [
    "# Group Words by First Letter\n",
    "Given a list of words, group them in a dictionary by their first letter."
   ]
  },
  {
   "cell_type": "code",
   "execution_count": 202,
   "id": "76e27252",
   "metadata": {},
   "outputs": [
    {
     "name": "stdout",
     "output_type": "stream",
     "text": [
      "{'a': ['apple'], 'g': ['group', 'google'], 't': ['their', 'them', 'that'], 'l': ['letter', 'list']}\n"
     ]
    }
   ],
   "source": [
    "words = ['apple', 'group', 'google', 'their', 'them', 'letter', 'list', 'that']\n",
    "\n",
    "def group_words_by_first_letter(words):\n",
    "    dic = {}\n",
    "    for word in words:\n",
    "        ch = word[0]\n",
    "        if ch in dic:\n",
    "            dic[ch].append(word)\n",
    "        else:\n",
    "            dic[ch] = [word]\n",
    "\n",
    "    print(dic)\n",
    "\n",
    "group_words_by_first_letter(words)"
   ]
  },
  {
   "cell_type": "code",
   "execution_count": null,
   "id": "e1d9d7dc",
   "metadata": {},
   "outputs": [],
   "source": [
    "from collections import defaultdict\n",
    "\n",
    "words = ['apple', 'group', 'google', 'their', 'them', 'letter', 'list', 'that']\n",
    "\n",
    "def group_words_by_first_letter(words):\n",
    "    dic = defaultdict(list)\n",
    "    for word in words:\n",
    "        dic[word[0]].append(word)\n",
    "    return dict(dic)\n",
    "\n",
    "result = group_words_by_first_letter(words)\n",
    "print(result)"
   ]
  },
  {
   "cell_type": "code",
   "execution_count": null,
   "id": "86dc3a05",
   "metadata": {},
   "outputs": [],
   "source": []
  },
  {
   "cell_type": "markdown",
   "id": "fa13490b",
   "metadata": {},
   "source": [
    "# Merge Two Dictionaries\n",
    "Given two dictionaries, merge them into one. If a key appears in both, sum their values."
   ]
  },
  {
   "cell_type": "markdown",
   "id": "ce89fabd",
   "metadata": {},
   "source": []
  },
  {
   "cell_type": "markdown",
   "id": "7e51ddba",
   "metadata": {},
   "source": [
    "# Unique Values\n",
    "Given a dictionary, print all unique values."
   ]
  },
  {
   "cell_type": "code",
   "execution_count": null,
   "id": "d85ee9ee",
   "metadata": {},
   "outputs": [],
   "source": []
  },
  {
   "cell_type": "markdown",
   "id": "af8aa493",
   "metadata": {},
   "source": [
    "# Word Count in a Sentence\n",
    "Given a sentence, count the frequency of each word using a dictionary."
   ]
  },
  {
   "cell_type": "code",
   "execution_count": null,
   "id": "12324e8a",
   "metadata": {},
   "outputs": [],
   "source": []
  },
  {
   "cell_type": "markdown",
   "id": "3bd96b28",
   "metadata": {},
   "source": [
    "# Check for Anagrams\n",
    "Write a function that checks if two strings are anagrams using dictionaries."
   ]
  },
  {
   "cell_type": "code",
   "execution_count": null,
   "id": "672ebafd",
   "metadata": {},
   "outputs": [],
   "source": [
    "\n",
    "str1 = 'firste'\n",
    "str2 = 'risf2t'\n",
    "\n",
    "def is_anagrams(str1, str2):\n",
    "    if len(str1) != len(str2):\n",
    "        return False\n",
    "\n",
    "    dic1 = {}\n",
    "    for ch in str1:\n",
    "        dic1[ch] = dic1.get(ch, 0) + 1\n",
    "\n",
    "    dic2 = {}\n",
    "    for ch in str2:\n",
    "        dic2[ch] = dic2.get(ch, 0) + 1\n",
    "    print(dic1)\n",
    "    print(dic2)\n",
    "    if dic1 == dic2:\n",
    "        return True\n",
    "    return False\n",
    "\n",
    "is_anagrams(str1, str2)\n",
    "    "
   ]
  },
  {
   "cell_type": "markdown",
   "id": "89f4150d",
   "metadata": {},
   "source": [
    "### Complexity Analysis: Original is_anagrams Implementation\n",
    "- **Time Complexity:** O(n), where n is the length of the input strings. Building each dictionary takes O(n), and comparing two dictionaries is O(k), where k is the number of unique characters (at most n). So overall, O(n).\n",
    "- **Space Complexity:** O(1) if the alphabet is fixed (e.g., lowercase English letters), otherwise O(k) where k is the number of unique characters in the strings."
   ]
  },
  {
   "cell_type": "code",
   "execution_count": null,
   "id": "f73c27c5",
   "metadata": {},
   "outputs": [],
   "source": [
    "from collections import Counter\n",
    "\n",
    "str1 = 'firste'\n",
    "str2 = 'risf2t'\n",
    "\n",
    "def is_anagrams(str1, str2):\n",
    "    return Counter(str1) == Counter(str2)\n",
    "\n",
    "print(is_anagrams(str1, str2))"
   ]
  },
  {
   "cell_type": "code",
   "execution_count": 215,
   "id": "76d0efe7",
   "metadata": {},
   "outputs": [
    {
     "name": "stdout",
     "output_type": "stream",
     "text": [
      "False\n"
     ]
    }
   ],
   "source": [
    "# Anagram check using only dictionaries\n",
    "str1 = 'first'\n",
    "str2 = 'risf2t'\n",
    "\n",
    "def is_anagrams_dict(str1, str2):\n",
    "    if len(str1) != len(str2):\n",
    "        return False\n",
    "    dic = {}\n",
    "    for ch in str1:\n",
    "        dic[ch] = dic.get(ch, 0) + 1\n",
    "    for ch in str2:\n",
    "        if ch not in dic or dic[ch] == 0:\n",
    "            return False\n",
    "        dic[ch] -= 1\n",
    "    return all(v == 0 for v in dic.values())\n",
    "\n",
    "print(is_anagrams_dict(str1, str2))"
   ]
  },
  {
   "cell_type": "markdown",
   "id": "871f51f0",
   "metadata": {},
   "source": [
    "### What does `all(v == 0 for v in dic.values())` do?\n",
    "This line checks if all values in the dictionary `dic` are zero. It returns `True` only if every value is zero, and `False` otherwise.\n",
    "- In the context of the anagram function, after decrementing the counts for each character in the second string, this line ensures that every character from the first string has been matched exactly by the second string. If any value is not zero, it means the strings are not anagrams."
   ]
  },
  {
   "cell_type": "markdown",
   "id": "0b3e8eb9",
   "metadata": {},
   "source": [
    "### Complexity Analysis: is_anagrams_dict using Dictionary\n",
    "- **Time Complexity:** O(n), where n is the length of the input strings. Each character in both strings is processed once.\n",
    "- **Space Complexity:** O(1) if the alphabet is fixed (e.g., lowercase English letters), otherwise O(k) where k is the number of unique characters in the strings."
   ]
  },
  {
   "cell_type": "markdown",
   "id": "365fc006",
   "metadata": {},
   "source": [
    "### Complexity Analysis: is_anagrams using Counter\n",
    "- **Time Complexity:** O(n), where n is the length of the input strings. Building each Counter takes O(n), and comparing two Counters is O(n) in the worst case (if all characters are unique).\n",
    "- **Space Complexity:** O(1) if the alphabet is fixed (e.g., lowercase English letters), otherwise O(k) where k is the number of unique characters in the strings."
   ]
  },
  {
   "cell_type": "code",
   "execution_count": 219,
   "id": "ea32655d",
   "metadata": {},
   "outputs": [],
   "source": [
    "# Anagram check using only dictionaries\n",
    "str1 = 'first'\n",
    "str2 = 'risf2t'\n",
    "\n",
    "def is_anagrams_dict(str1, str2):\n",
    "    if len(t) != len(s):\n",
    "        return False\n",
    "    s_count = Counter(s)\n",
    "    t_count = Counter(t)\n",
    "\n",
    "    for key, value in s_count.items():\n",
    "        if t_count[key] != value:\n",
    "            return False\n",
    "    return True"
   ]
  },
  {
   "cell_type": "markdown",
   "id": "fdebf666",
   "metadata": {},
   "source": [
    "### What does `Counter` do in Python?\n",
    "`Counter` is a class from the `collections` module that counts the frequency of each element in an iterable (like a string or list). It returns a dictionary-like object where keys are elements and values are their counts.\n",
    "#### Example:\n",
    "```python\n",
    "from collections import Counter\n",
    "s = 'banana'\n",
    "print(Counter(s))  # Output: Counter({'a': 3, 'n': 2, 'b': 1})\n",
    "```"
   ]
  },
  {
   "cell_type": "code",
   "execution_count": null,
   "id": "23643257",
   "metadata": {},
   "outputs": [],
   "source": []
  },
  {
   "cell_type": "markdown",
   "id": "f3fa6eec",
   "metadata": {},
   "source": [
    "# 451. Sort Characters By Frequency\n",
    "Medium\n",
    "\n",
    "Topics\n",
    "conpanies icon\n",
    "Companies\n",
    "Given a string s, sort it in decreasing order based on the frequency of the characters. The frequency of a character is the number of times it appears in the string.\n",
    "\n",
    "Return the sorted string. If there are multiple answers, return any of them.\n",
    "\n",
    " \n",
    "\n",
    "Example 1:\n",
    "\n",
    "Input: s = \"tree\"\n",
    "Output: \"eert\"\n",
    "Explanation: 'e' appears twice while 'r' and 't' both appear once.\n",
    "So 'e' must appear before both 'r' and 't'. Therefore \"eetr\" is also a valid answer.\n",
    "Example 2:\n",
    "\n",
    "Input: s = \"cccaaa\"\n",
    "Output: \"aaaccc\"\n",
    "Explanation: Both 'c' and 'a' appear three times, so both \"cccaaa\" and \"aaaccc\" are valid answers.\n",
    "Note that \"cacaca\" is incorrect, as the same characters must be together.\n",
    "Example 3:\n",
    "\n",
    "Input: s = \"Aabb\"\n",
    "Output: \"bbAa\"\n",
    "Explanation: \"bbaA\" is also a valid answer, but \"Aabb\" is incorrect.\n",
    "Note that 'A' and 'a' are treated as two different characters.\n"
   ]
  },
  {
   "cell_type": "code",
   "execution_count": 237,
   "id": "567a53cc",
   "metadata": {},
   "outputs": [
    {
     "name": "stdout",
     "output_type": "stream",
     "text": [
      "{'b': 2, 'A': 1, 'a': 1}\n",
      "bb\n",
      "bbA\n",
      "bbAa\n"
     ]
    },
    {
     "data": {
      "text/plain": [
       "'bbAa'"
      ]
     },
     "execution_count": 237,
     "metadata": {},
     "output_type": "execute_result"
    }
   ],
   "source": [
    "s = 'Aabb'\n",
    "\n",
    "from collections import Counter\n",
    "\n",
    "def frequency_sort(s):\n",
    "    counter = Counter(s)\n",
    "    new_s=''\n",
    "    sorted_by_value_desc = dict(sorted(counter.items(), key=lambda x: -x[1]))  # {'a': 3, 'b': 2, 'c': 1}\n",
    "    print(sorted_by_value_desc)\n",
    "    for ch, count in sorted_by_value_desc.items():\n",
    "        new_s += ch * count\n",
    "        print(new_s)\n",
    "    return new_s\n",
    "\n",
    "frequency_sort(s)"
   ]
  },
  {
   "cell_type": "markdown",
   "id": "90368dbf",
   "metadata": {},
   "source": [
    "### Complexity Analysis: frequency_sort Function\n",
    "- **Time Complexity:** O(n + k log k), where n is the length of the string and k is the number of unique characters. Counting frequencies is O(n), sorting the dictionary items is O(k log k), and building the result string is O(n).\n",
    "- **Space Complexity:** O(n + k), for the Counter object and the result string."
   ]
  },
  {
   "cell_type": "markdown",
   "id": "2cbe931c",
   "metadata": {},
   "source": [
    "### How to Sort a Dictionary in Python\n",
    "You can sort a dictionary by keys or by values using the `sorted()` function.\n",
    "- **Sort by keys:**\n",
    "```python\n",
    "d = {'b': 2, 'a': 3, 'c': 1}\n",
    "sorted_by_key = dict(sorted(d.items()))  # {'a': 3, 'b': 2, 'c': 1}\n",
    "```\n",
    "- **Sort by values (ascending):**\n",
    "```python\n",
    "sorted_by_value = dict(sorted(d.items(), key=lambda x: x[1]))  # {'c': 1, 'b': 2, 'a': 3}\n",
    "```\n",
    "- **Sort by values (descending):**\n",
    "```python\n",
    "sorted_by_value_desc = dict(sorted(d.items(), key=lambda x: -x[1]))  # {'a': 3, 'b': 2, 'c': 1}\n",
    "```"
   ]
  },
  {
   "cell_type": "code",
   "execution_count": null,
   "id": "06702fe6",
   "metadata": {},
   "outputs": [
    {
     "data": {
      "text/plain": [
       "0"
      ]
     },
     "execution_count": 232,
     "metadata": {},
     "output_type": "execute_result"
    }
   ],
   "source": [
    "s = 'tree'\n",
    "counter = Counter(s)\n",
    "counter"
   ]
  },
  {
   "cell_type": "code",
   "execution_count": 248,
   "id": "baa68ea4",
   "metadata": {},
   "outputs": [
    {
     "data": {
      "text/plain": [
       "(1, 2, 3, 4, 4)"
      ]
     },
     "execution_count": 248,
     "metadata": {},
     "output_type": "execute_result"
    }
   ],
   "source": [
    "mylist = [1,2,3,4,4]\n",
    "tuple(mylist)"
   ]
  },
  {
   "cell_type": "markdown",
   "id": "28284176",
   "metadata": {},
   "source": []
  },
  {
   "cell_type": "markdown",
   "id": "2eddd585",
   "metadata": {},
   "source": []
  },
  {
   "cell_type": "code",
   "execution_count": 228,
   "id": "0b550096",
   "metadata": {},
   "outputs": [
    {
     "data": {
      "text/plain": [
       "'eee'"
      ]
     },
     "execution_count": 228,
     "metadata": {},
     "output_type": "execute_result"
    }
   ],
   "source": [
    "'e'*3"
   ]
  },
  {
   "cell_type": "code",
   "execution_count": 247,
   "id": "64f9f9f2",
   "metadata": {},
   "outputs": [
    {
     "data": {
      "text/plain": [
       "False"
      ]
     },
     "execution_count": 247,
     "metadata": {},
     "output_type": "execute_result"
    }
   ],
   "source": [
    "s = 'first'\n",
    "t = 'risft7'\n",
    "\n",
    "sorted(t) ==sorted(s)\n"
   ]
  },
  {
   "cell_type": "markdown",
   "id": "fb3852b0",
   "metadata": {},
   "source": [
    "### How to Sort a String in Python\n",
    "Strings are immutable, so you cannot call `.sort()` directly on a string. Instead, use `sorted()` to get a sorted list of characters, and `''.join()` to convert it back to a string.\n",
    "#### Example:\n",
    "```python\n",
    "s = 'first'\n",
    "sorted_s = ''.join(sorted(s))  # 'first' -> 'first' (sorted: 'first')\n",
    "print(sorted_s)\n",
    "```"
   ]
  },
  {
   "cell_type": "markdown",
   "id": "7ca0fa6f",
   "metadata": {},
   "source": [
    "# Group Anagrams\n",
    "Solved \n",
    "Given an array of strings strs, group all anagrams together into sublists. You may return the output in any order.\n",
    "\n",
    "An anagram is a string that contains the exact same characters as another string, but the order of the characters can be different.\n",
    "\n",
    "Example 1:\n",
    "\n",
    "Input: strs = [\"act\",\"pots\",\"tops\",\"cat\",\"stop\",\"hat\"]\n",
    "\n",
    "Output: [[\"hat\"],[\"act\", \"cat\"],[\"stop\", \"pots\", \"tops\"]]\n",
    "Example 2:\n",
    "\n",
    "Input: strs = [\"x\"]\n",
    "\n",
    "Output: [[\"x\"]]\n",
    "Example 3:\n",
    "\n",
    "Input: strs = [\"\"]\n",
    "\n",
    "Output: [[\"\"]]\n",
    "Constraints:"
   ]
  },
  {
   "cell_type": "code",
   "execution_count": 264,
   "id": "746699f2",
   "metadata": {},
   "outputs": [
    {
     "data": {
      "text/plain": [
       "[['act', 'cat'], ['ppots', 'topps'], ['stop'], ['hat']]"
      ]
     },
     "execution_count": 264,
     "metadata": {},
     "output_type": "execute_result"
    }
   ],
   "source": [
    "from collections import defaultdict\n",
    "\n",
    "strs = [\"act\",\"ppots\",\"topps\",\"cat\",\"stop\",\"hat\"]\n",
    "\n",
    "def groupAnagrams(strs):\n",
    "\n",
    "    dic = defaultdict(list)\n",
    "    \n",
    "    for s in strs:\n",
    "        s_sorted = ''.join(sorted(s))\n",
    "        if s_sorted in dic:\n",
    "            dic[s_sorted].append(s)\n",
    "        else:\n",
    "            dic[s_sorted].append(s)\n",
    "    \n",
    "    # res = []\n",
    "    # for key in dic:\n",
    "    #     res.append(dic[key])\n",
    "    # return res\n",
    "    return list(dic.values())\n",
    "\n",
    "groupAnagrams(strs)"
   ]
  },
  {
   "cell_type": "code",
   "execution_count": 256,
   "id": "6305d4e1",
   "metadata": {},
   "outputs": [
    {
     "data": {
      "text/plain": [
       "'aafnrz'"
      ]
     },
     "execution_count": 256,
     "metadata": {},
     "output_type": "execute_result"
    }
   ],
   "source": [
    "'farnaz'\n",
    "''.join(sorted('farnaz'))"
   ]
  },
  {
   "cell_type": "code",
   "execution_count": null,
   "id": "e339413e",
   "metadata": {},
   "outputs": [
    {
     "name": "stdout",
     "output_type": "stream",
     "text": [
      "defaultdict(<class 'list'>, {(1, 0, 1, 0, 0, 0, 0, 0, 0, 0, 0, 0, 0, 0, 0, 0, 0, 0, 0, 1, 0, 0, 0, 0, 0, 0): ['act']})\n",
      "defaultdict(<class 'list'>, {(1, 0, 1, 0, 0, 0, 0, 0, 0, 0, 0, 0, 0, 0, 0, 0, 0, 0, 0, 1, 0, 0, 0, 0, 0, 0): ['act'], (0, 0, 0, 0, 0, 0, 0, 0, 0, 0, 0, 0, 0, 0, 1, 2, 0, 0, 1, 1, 0, 0, 0, 0, 0, 0): ['ppots']})\n",
      "defaultdict(<class 'list'>, {(1, 0, 1, 0, 0, 0, 0, 0, 0, 0, 0, 0, 0, 0, 0, 0, 0, 0, 0, 1, 0, 0, 0, 0, 0, 0): ['act'], (0, 0, 0, 0, 0, 0, 0, 0, 0, 0, 0, 0, 0, 0, 1, 2, 0, 0, 1, 1, 0, 0, 0, 0, 0, 0): ['ppots', 'topps']})\n",
      "defaultdict(<class 'list'>, {(1, 0, 1, 0, 0, 0, 0, 0, 0, 0, 0, 0, 0, 0, 0, 0, 0, 0, 0, 1, 0, 0, 0, 0, 0, 0): ['act', 'cat'], (0, 0, 0, 0, 0, 0, 0, 0, 0, 0, 0, 0, 0, 0, 1, 2, 0, 0, 1, 1, 0, 0, 0, 0, 0, 0): ['ppots', 'topps']})\n",
      "defaultdict(<class 'list'>, {(1, 0, 1, 0, 0, 0, 0, 0, 0, 0, 0, 0, 0, 0, 0, 0, 0, 0, 0, 1, 0, 0, 0, 0, 0, 0): ['act', 'cat'], (0, 0, 0, 0, 0, 0, 0, 0, 0, 0, 0, 0, 0, 0, 1, 2, 0, 0, 1, 1, 0, 0, 0, 0, 0, 0): ['ppots', 'topps'], (0, 0, 0, 0, 0, 0, 0, 0, 0, 0, 0, 0, 0, 0, 1, 1, 0, 0, 1, 1, 0, 0, 0, 0, 0, 0): ['stop']})\n",
      "defaultdict(<class 'list'>, {(1, 0, 1, 0, 0, 0, 0, 0, 0, 0, 0, 0, 0, 0, 0, 0, 0, 0, 0, 1, 0, 0, 0, 0, 0, 0): ['act', 'cat'], (0, 0, 0, 0, 0, 0, 0, 0, 0, 0, 0, 0, 0, 0, 1, 2, 0, 0, 1, 1, 0, 0, 0, 0, 0, 0): ['ppots', 'topps'], (0, 0, 0, 0, 0, 0, 0, 0, 0, 0, 0, 0, 0, 0, 1, 1, 0, 0, 1, 1, 0, 0, 0, 0, 0, 0): ['stop'], (1, 0, 0, 0, 0, 0, 0, 1, 0, 0, 0, 0, 0, 0, 0, 0, 0, 0, 0, 1, 0, 0, 0, 0, 0, 0): ['hat']})\n",
      "[['act', 'cat'], ['ppots', 'topps'], ['stop'], ['hat']]\n"
     ]
    }
   ],
   "source": [
    "res = defaultdict(list)\n",
    "for s in strs:\n",
    "    count = [0] * 26\n",
    "    for c in s:\n",
    "        count[ord(c) - ord('a')] += 1\n",
    "\n",
    "    res[tuple(count)].append(s)\n",
    "    print(res)\n",
    "print(list(res.values()))"
   ]
  },
  {
   "cell_type": "code",
   "execution_count": null,
   "id": "c5f19216",
   "metadata": {},
   "outputs": [],
   "source": []
  }
 ],
 "metadata": {
  "kernelspec": {
   "display_name": ".venv",
   "language": "python",
   "name": "python3"
  },
  "language_info": {
   "codemirror_mode": {
    "name": "ipython",
    "version": 3
   },
   "file_extension": ".py",
   "mimetype": "text/x-python",
   "name": "python",
   "nbconvert_exporter": "python",
   "pygments_lexer": "ipython3",
   "version": "3.9.6"
  }
 },
 "nbformat": 4,
 "nbformat_minor": 5
}
