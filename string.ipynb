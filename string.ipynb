{
 "cells": [
  {
   "cell_type": "markdown",
   "id": "450dcfca",
   "metadata": {},
   "source": [
    "# get the length of the last word in a string"
   ]
  },
  {
   "cell_type": "code",
   "execution_count": 3,
   "id": "9ca26280",
   "metadata": {},
   "outputs": [
    {
     "data": {
      "text/plain": [
       "5"
      ]
     },
     "execution_count": 3,
     "metadata": {},
     "output_type": "execute_result"
    }
   ],
   "source": [
    "s = \"hello world\"\n",
    "len(s.split()[-1])"
   ]
  },
  {
   "cell_type": "markdown",
   "id": "6ff83439",
   "metadata": {},
   "source": [
    "# Valid Parentheses\n",
    "\n",
    "Topics\n",
    "conpanies icon\n",
    "Companies\n",
    "\n",
    "Hint\n",
    "Given a string s containing just the characters '(', ')', '{', '}', '[' and ']', determine if the input string is valid."
   ]
  },
  {
   "cell_type": "code",
   "execution_count": null,
   "id": "9dd46aa2",
   "metadata": {},
   "outputs": [],
   "source": [
    "def isvalid(s):\n",
    "    stack= []\n",
    "    map = {')':'(' , '}':'{', ']':'['}\n",
    "\n",
    "    for char in s:\n",
    "        if char in map.values():\n",
    "            stack.append(char)\n",
    "        elif char in map.keys():\n",
    "            if not stack or map[char]!=stack.pop():\n",
    "                return False\n",
    "    \n",
    "    return not stack\n",
    "\n",
    "        \n",
    "        "
   ]
  },
  {
   "cell_type": "code",
   "execution_count": null,
   "id": "fc0a306b",
   "metadata": {},
   "outputs": [],
   "source": [
    "def isvalid(s): \n",
    "    closing = { '{': '}', '[': ']', '(': ')' }\n",
    "    if len(s) == 0:\n",
    "        return True\n",
    "    last_open = []\n",
    "    for pos in range(0, len(s)):\n",
    "        if s[pos] in \"({[\":\n",
    "            last_open.append(closing[s[pos]])\n",
    "        else:\n",
    "            if len(last_open) == 0 or s[pos] != last_open[-1]:\n",
    "                return False\n",
    "            last_open.pop()\n",
    "    return len(last_open) == 0"
   ]
  },
  {
   "cell_type": "code",
   "execution_count": 4,
   "id": "af9d66c2",
   "metadata": {},
   "outputs": [
    {
     "data": {
      "text/plain": [
       "['hello', 'world']"
      ]
     },
     "execution_count": 4,
     "metadata": {},
     "output_type": "execute_result"
    }
   ],
   "source": [
    "def encode(strs):\n",
    "    encoded_str = ''\n",
    "    for s in strs:\n",
    "        encoded_str = encoded_str + ' ' + s\n",
    "    return encoded_str.strip()\n",
    "\n",
    "\n",
    "x = encode([\"hello\", \"world\"])\n",
    "x.split()"
   ]
  },
  {
   "cell_type": "code",
   "execution_count": 21,
   "id": "a6edbe78",
   "metadata": {},
   "outputs": [
    {
     "name": "stdout",
     "output_type": "stream",
     "text": [
      "['', '']\n"
     ]
    }
   ],
   "source": [
    "def encode(strs):\n",
    "    return ''.join(f'{len(s)}#{s}' for s in strs)\n",
    "\n",
    "def decode(s):\n",
    "    res = []\n",
    "    i = 0\n",
    "    while i < len(s):\n",
    "        j = s.find('#', i)\n",
    "        length = int(s[i:j])\n",
    "        res.append(s[j+1:j+1+length])\n",
    "        i = j + 1 + length\n",
    "    return res\n",
    "\n",
    "# Example usage:\n",
    "encoded = encode([\"\", \"\"])\n",
    "decoded = decode(encoded)\n",
    "print(decoded)  # Output: [\"\", \"\"]\n"
   ]
  },
  {
   "cell_type": "markdown",
   "id": "71a56c9d",
   "metadata": {},
   "source": [
    "# Write a function that reverses a string. The input string is given as an array of characters s.\n",
    "\n",
    "You must do this by modifying the input array in-place with O(1) extra memory.\n",
    "\n",
    " \n",
    "\n",
    "Example 1:\n",
    "\n",
    "Input: s = [\"h\",\"e\",\"l\",\"l\",\"o\"]\n",
    "Output: [\"o\",\"l\",\"l\",\"e\",\"h\"]\n",
    "Example 2:\n",
    "\n",
    "Input: s = [\"H\",\"a\",\"n\",\"n\",\"a\",\"h\"]\n",
    "Output: [\"h\",\"a\",\"n\",\"n\",\"a\",\"H\"]\n",
    " \n",
    "\n",
    "Constraints:\n",
    "\n",
    "1 <= s.length <= 105\n",
    "s[i] is a printable ascii character."
   ]
  },
  {
   "cell_type": "code",
   "execution_count": 6,
   "id": "f2f9812c",
   "metadata": {},
   "outputs": [
    {
     "data": {
      "text/plain": [
       "['2', 'h']"
      ]
     },
     "execution_count": 6,
     "metadata": {},
     "output_type": "execute_result"
    }
   ],
   "source": [
    "s = [\"h\",\"e\",\"l\",\"l\",\"o\",'o']\n",
    "s=['h','2']\n",
    "def reverseString(s):\n",
    "    '''\n",
    "    Do not return anything, modify the string inplace\n",
    "    '''\n",
    "    len_s = len(s)-1\n",
    "    i = 0\n",
    "    while i <= len_s/2:\n",
    "        s[i], s[len_s-i] = s[len_s-i] , s[i]\n",
    "        i +=1\n",
    "\n",
    "    return s\n",
    "\n",
    "reverseString(s)"
   ]
  },
  {
   "cell_type": "code",
   "execution_count": 20,
   "id": "b5498875",
   "metadata": {},
   "outputs": [
    {
     "name": "stdout",
     "output_type": "stream",
     "text": [
      "['2', 'h']\n"
     ]
    }
   ],
   "source": [
    "# use recursion\n",
    "s = [\"h\",\"e\",\"l\",\"l\",\"o\",'o']\n",
    "s=['h','2']\n",
    "def reverseString(s):\n",
    "    '''\n",
    "    Do not return anything, modify the string inplace\n",
    "    '''\n",
    "    def helper(first, last,s):\n",
    "      \n",
    "        \n",
    "        if first >= last:\n",
    "            return \n",
    "        s[first], s[last] = s[last], s[first]\n",
    "\n",
    "        return helper(first+1, last-1,s)\n",
    "\n",
    "    helper(0, len(s)-1, s)\n",
    "    print(s)\n",
    "reverseString(s)\n"
   ]
  },
  {
   "cell_type": "code",
   "execution_count": null,
   "id": "9f598cdd",
   "metadata": {},
   "outputs": [],
   "source": []
  }
 ],
 "metadata": {
  "kernelspec": {
   "display_name": "Python 3",
   "language": "python",
   "name": "python3"
  },
  "language_info": {
   "codemirror_mode": {
    "name": "ipython",
    "version": 3
   },
   "file_extension": ".py",
   "mimetype": "text/x-python",
   "name": "python",
   "nbconvert_exporter": "python",
   "pygments_lexer": "ipython3",
   "version": "3.9.6"
  }
 },
 "nbformat": 4,
 "nbformat_minor": 5
}
