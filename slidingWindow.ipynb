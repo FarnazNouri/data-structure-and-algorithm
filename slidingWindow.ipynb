{
 "cells": [
  {
   "cell_type": "markdown",
   "id": "94a5f055",
   "metadata": {},
   "source": [
    "# Longest Substring Without Repeating Characters\n",
    "Given a string s, find the length of the longest substring without duplicate characters.\n",
    "\n",
    "A substring is a contiguous sequence of characters within a string.\n",
    "\n",
    "Example 1:\n",
    "\n",
    "Input: s = \"zxyzxyz\"\n",
    "\n",
    "Output: 3\n",
    "Explanation: The string \"xyz\" is the longest without duplicate characters.\n",
    "\n",
    "Example 2:\n",
    "\n",
    "Input: s = \"xxxx\"\n",
    "\n",
    "Output: 1\n",
    "Constraints:\n",
    "\n",
    "0 <= s.length <= 1000\n",
    "s may consist of printable ASCII characters."
   ]
  },
  {
   "cell_type": "code",
   "execution_count": 4,
   "id": "69082951",
   "metadata": {},
   "outputs": [
    {
     "data": {
      "text/plain": [
       "{'a', 'g', 'l', 'm', 'o', 's'}"
      ]
     },
     "execution_count": 4,
     "metadata": {},
     "output_type": "execute_result"
    }
   ],
   "source": [
    "s = 'salamgolam'\n",
    "set(s)"
   ]
  },
  {
   "cell_type": "code",
   "execution_count": null,
   "id": "03ca24b4",
   "metadata": {},
   "outputs": [
    {
     "name": "stdout",
     "output_type": "stream",
     "text": [
      "ourtof loop: {'s'}\n",
      "ourtof loop: {'s', 'a'}\n",
      "ourtof loop: {'s', 'l', 'a'}\n",
      "{'l', 'a'}\n",
      "{'l'}\n",
      "ourtof loop: {'l', 'a'}\n",
      "ourtof loop: {'l', 'a', 'm'}\n",
      "ourtof loop: {'l', 'a', 'm', 'g'}\n",
      "ourtof loop: {'l', 'a', 'o', 'm', 'g'}\n",
      "{'a', 'o', 'm', 'g'}\n",
      "ourtof loop: {'l', 'a', 'o', 'm', 'g'}\n",
      "{'l', 'o', 'm', 'g'}\n",
      "ourtof loop: {'l', 'a', 'o', 'm', 'g'}\n",
      "{'l', 'a', 'o', 'g'}\n",
      "ourtof loop: {'l', 'a', 'o', 'm', 'g'}\n"
     ]
    }
   ],
   "source": [
    "s = 'salamgolam'\n",
    "chset = set()\n",
    "l = 0\n",
    "res = 0\n",
    "\n",
    "for r in range(len(s)):\n",
    "    while s[r] in chset:\n",
    "        chset.remove(s[l])\n",
    "        l +=1\n",
    "        print(chset)\n",
    "    chset.add(s[r])\n",
    "    res = max(res, r-l +1)\n",
    "    print('ourtof loop:', chset)\n",
    "\n"
   ]
  },
  {
   "cell_type": "code",
   "execution_count": 6,
   "id": "9306a4ad",
   "metadata": {},
   "outputs": [
    {
     "data": {
      "text/plain": [
       "5"
      ]
     },
     "execution_count": 6,
     "metadata": {},
     "output_type": "execute_result"
    }
   ],
   "source": [
    "from collections import Counter\n",
    "\n",
    "s = \"AAABABB\"\n",
    "k = 1\n",
    "\n",
    "def characterReplacement(s, k):\n",
    "    res = 0\n",
    "    count = {}\n",
    "    l = 0\n",
    "\n",
    "    for r in range (len(s)):\n",
    "        count[s[r]] = 1 + count.get(s[r], 0)\n",
    "        while (r - l + 1) - max(count.values()) > k:\n",
    "            count[s[l]] -= 1\n",
    "            l += 1\n",
    "        res = max(res, r - l + 1)\n",
    "    return res\n",
    "\n",
    "characterReplacement(s, k)\n"
   ]
  },
  {
   "cell_type": "markdown",
   "id": "ffdf3e39",
   "metadata": {},
   "source": []
  }
 ],
 "metadata": {
  "kernelspec": {
   "display_name": "Python 3",
   "language": "python",
   "name": "python3"
  },
  "language_info": {
   "codemirror_mode": {
    "name": "ipython",
    "version": 3
   },
   "file_extension": ".py",
   "mimetype": "text/x-python",
   "name": "python",
   "nbconvert_exporter": "python",
   "pygments_lexer": "ipython3",
   "version": "3.9.6"
  }
 },
 "nbformat": 4,
 "nbformat_minor": 5
}
