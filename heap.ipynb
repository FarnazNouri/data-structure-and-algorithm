{
 "cells": [
  {
   "cell_type": "markdown",
   "id": "be9fc559",
   "metadata": {},
   "source": [
    "# Kth Largest Element in a Stream\n",
    "Solved \n",
    "Design a class to find the kth largest integer in a stream of values, including duplicates. E.g. the 2nd largest from [1, 2, 3, 3] is 3. The stream is not necessarily sorted.\n",
    "\n",
    "Implement the following methods:\n",
    "\n",
    "constructor(int k, int[] nums) Initializes the object given an integer k and the stream of integers nums.\n",
    "int add(int val) Adds the integer val to the stream and returns the kth largest integer in the stream.\n",
    "Example 1:\n",
    "\n",
    "Input:\n",
    "[\"KthLargest\", [3, [1, 2, 3, 3]], \"add\", [3], \"add\", [5], \"add\", [6], \"add\", [7], \"add\", [8]]\n",
    "\n",
    "Output:\n",
    "[null, 3, 3, 3, 5, 6]\n",
    "\n",
    "Explanation:\n",
    "KthLargest kthLargest = new KthLargest(3, [1, 2, 3, 3]);\n",
    "kthLargest.add(3);   // return 3\n",
    "kthLargest.add(5);   // return 3\n",
    "kthLargest.add(6);   // return 3\n",
    "kthLargest.add(7);   // return 5\n",
    "kthLargest.add(8);   // return 6"
   ]
  },
  {
   "cell_type": "code",
   "execution_count": null,
   "id": "78c3e5c1",
   "metadata": {},
   "outputs": [],
   "source": [
    "# Min-heap\n",
    "\n",
    "import heapq\n",
    "\n",
    "class KthLargest:\n",
    "    def __init__(self, nums, k):\n",
    "        self.minheap, self.k = nums, k\n",
    "\n",
    "        heapq.heapify(self.minheap)\n",
    "        \n",
    "        while len(self.minheap) > 3:\n",
    "            heapq.heappop(self.minheap)\n",
    "\n",
    "    def add(self, val):\n",
    "        heapq.heappush(self.minheap, val)\n",
    "        if len(self.minheap) > self.k:\n",
    "            heapq.heappop(self.minheap)\n",
    "        \n",
    "        return self.minheap[0]\n",
    "\n",
    "\n",
    "'''\n",
    "Time & Space Complexity\n",
    "Time complexity: O(m∗logk)\n",
    "Space complexity: O(k)\n",
    "\n",
    "Where m is the number of calls made to add().\n",
    "'''"
   ]
  },
  {
   "cell_type": "code",
   "execution_count": null,
   "id": "6a09ad50",
   "metadata": {},
   "outputs": [],
   "source": [
    "class KthLargest:\n",
    "\n",
    "    def __init__(self, k: int, nums):\n",
    "        self.k = k\n",
    "        self.arr = nums\n",
    "\n",
    "    def add(self, val: int) -> int:\n",
    "        self.arr.append(val)\n",
    "        self.arr.sort()\n",
    "        return self.arr[len(self.arr) - self.k]"
   ]
  },
  {
   "cell_type": "markdown",
   "id": "f65c71d3",
   "metadata": {},
   "source": [
    "# Last Stone Weight\n",
    "You are given an array of integers stones where stones[i] represents the weight of the ith stone.\n",
    "\n",
    "We want to run a simulation on the stones as follows:\n",
    "\n",
    "At each step we choose the two heaviest stones, with weight x and y and smash them togethers\n",
    "If x == y, both stones are destroyed\n",
    "If x < y, the stone of weight x is destroyed, and the stone of weight y has new weight y - x.\n",
    "Continue the simulation until there is no more than one stone remaining.\n",
    "\n",
    "Return the weight of the last remaining stone or return 0 if none remain.\n",
    "\n",
    "Example 1:\n",
    "\n",
    "Input: stones = [2,3,6,2,4]\n",
    "\n",
    "Output: 1\n",
    "Explanation:\n",
    "We smash 6 and 4 and are left with a 2, so the array becomes [2,3,2,2].\n",
    "We smash 3 and 2 and are left with a 1, so the array becomes [1,2,2].\n",
    "We smash 2 and 2, so the array becomes [1].\n",
    "\n",
    "Example 2:\n",
    "\n",
    "Input: stones = [1,2]\n",
    "\n",
    "Output: 1"
   ]
  },
  {
   "cell_type": "code",
   "execution_count": 9,
   "id": "d8ef99ca",
   "metadata": {},
   "outputs": [
    {
     "data": {
      "text/plain": [
       "3"
      ]
     },
     "execution_count": 9,
     "metadata": {},
     "output_type": "execute_result"
    }
   ],
   "source": [
    "import heapq\n",
    "\n",
    "\n",
    "stones = [3,3,3]\n",
    "\n",
    "def lastStoneWeight(stones):\n",
    "    stones = [-s for s in stones]\n",
    "    heapq.heapify(stones)\n",
    "\n",
    "    while len(stones) > 1:\n",
    "\n",
    "        first = heapq.heappop(stones)\n",
    "        second = heapq.heappop(stones)\n",
    "\n",
    "        val = first - second\n",
    "        heapq.heappush(stones, val)\n",
    "\n",
    "    stones.append(0)\n",
    "\n",
    "    return abs(stones[0])\n",
    "\n",
    "lastStoneWeight(stones)"
   ]
  },
  {
   "cell_type": "code",
   "execution_count": null,
   "id": "c8803e6e",
   "metadata": {},
   "outputs": [],
   "source": []
  }
 ],
 "metadata": {
  "kernelspec": {
   "display_name": "Python 3",
   "language": "python",
   "name": "python3"
  },
  "language_info": {
   "codemirror_mode": {
    "name": "ipython",
    "version": 3
   },
   "file_extension": ".py",
   "mimetype": "text/x-python",
   "name": "python",
   "nbconvert_exporter": "python",
   "pygments_lexer": "ipython3",
   "version": "3.9.6"
  }
 },
 "nbformat": 4,
 "nbformat_minor": 5
}
