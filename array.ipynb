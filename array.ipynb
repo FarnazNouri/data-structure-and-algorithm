{
 "cells": [
  {
   "cell_type": "markdown",
   "id": "29250c3b",
   "metadata": {},
   "source": [
    "# Exercise: Array DataStructure\n",
    "\n",
    "Let us say your expense for every month are listed below,\n",
    "\n",
    "January - 2200\n",
    "\n",
    "February - 2350\n",
    "\n",
    "March - 2600\n",
    "\n",
    "April - 2130\n",
    "\n",
    "May - 2190\n",
    "\n",
    "Create a list to store these monthly expenses and using that find out,\n",
    "\n",
    "1. In Feb, how many dollars you spent extra compare to January?\n",
    "2. Find out your total expense in first quarter (first three months) of the year.\n",
    "3. Find out if you spent exactly 2000 dollars in any month\n",
    "4. June month just finished and your expense is 1980 dollar. Add this item to our monthly expense list\n",
    "5. You returned an item that you bought in a month of April and\n",
    "got a refund of 200$. Make a correction to your monthly expense list\n",
    "based on this"
   ]
  },
  {
   "cell_type": "code",
   "execution_count": 25,
   "id": "09259412",
   "metadata": {},
   "outputs": [
    {
     "data": {
      "text/plain": [
       "[2200, 2350, 2600, 2130, 2190]"
      ]
     },
     "execution_count": 25,
     "metadata": {},
     "output_type": "execute_result"
    }
   ],
   "source": [
    "expense = [2200,2350,2600,2130,2190]\n",
    "expense"
   ]
  },
  {
   "cell_type": "code",
   "execution_count": 3,
   "id": "1896dedb",
   "metadata": {},
   "outputs": [
    {
     "data": {
      "text/plain": [
       "150"
      ]
     },
     "execution_count": 3,
     "metadata": {},
     "output_type": "execute_result"
    }
   ],
   "source": [
    "expense[1]- expense[0]"
   ]
  },
  {
   "cell_type": "code",
   "execution_count": 4,
   "id": "39fa2204",
   "metadata": {},
   "outputs": [
    {
     "data": {
      "text/plain": [
       "7150"
      ]
     },
     "execution_count": 4,
     "metadata": {},
     "output_type": "execute_result"
    }
   ],
   "source": [
    "sum(expense[0:3])"
   ]
  },
  {
   "cell_type": "code",
   "execution_count": 12,
   "id": "5078ed57",
   "metadata": {},
   "outputs": [
    {
     "data": {
      "text/plain": [
       "False"
      ]
     },
     "execution_count": 12,
     "metadata": {},
     "output_type": "execute_result"
    }
   ],
   "source": [
    "2000 in expense"
   ]
  },
  {
   "cell_type": "code",
   "execution_count": 26,
   "id": "262e8895",
   "metadata": {},
   "outputs": [],
   "source": [
    "expense.append(1980)"
   ]
  },
  {
   "cell_type": "code",
   "execution_count": 27,
   "id": "3e7b175c",
   "metadata": {},
   "outputs": [
    {
     "data": {
      "text/plain": [
       "[2200, 2350, 2600, 2130, 2190, 1980]"
      ]
     },
     "execution_count": 27,
     "metadata": {},
     "output_type": "execute_result"
    }
   ],
   "source": [
    "expense"
   ]
  },
  {
   "cell_type": "code",
   "execution_count": 28,
   "id": "0e7ce963",
   "metadata": {},
   "outputs": [
    {
     "data": {
      "text/plain": [
       "[2200, 2350, 2600, 2130, 1990, 1980]"
      ]
     },
     "execution_count": 28,
     "metadata": {},
     "output_type": "execute_result"
    }
   ],
   "source": [
    "expense[4]=expense[4]-200\n",
    "expense"
   ]
  },
  {
   "cell_type": "markdown",
   "id": "d5376c35",
   "metadata": {},
   "source": [
    "# You have a list of your favourite marvel super heros.\n",
    "heros=['spider man','thor','hulk','iron man','captain america']\n",
    "Using this find out,\n",
    "\n",
    "1. Length of the list\n",
    "2. Add 'black panther' at the end of this list\n",
    "3. You realize that you need to add 'black panther' after 'hulk',\n",
    "   so remove it from the list first and then add it after 'hulk'\n",
    "4. Now you don't like thor and hulk because they get angry easily :)\n",
    "   So you want to remove thor and hulk from list and replace them with doctor strange (because he is cool).\n",
    "   Do that with one line of code.\n",
    "5. Sort the heros list in alphabetical order (Hint. Use dir() functions to list down all functions available in list)"
   ]
  },
  {
   "cell_type": "code",
   "execution_count": 66,
   "id": "bdaf52c2",
   "metadata": {},
   "outputs": [],
   "source": [
    "heros=['spider man','thor','hulk','iron man','captain america']"
   ]
  },
  {
   "cell_type": "code",
   "execution_count": 67,
   "id": "57ba22fd",
   "metadata": {},
   "outputs": [
    {
     "data": {
      "text/plain": [
       "5"
      ]
     },
     "execution_count": 67,
     "metadata": {},
     "output_type": "execute_result"
    }
   ],
   "source": [
    "len(heros)"
   ]
  },
  {
   "cell_type": "code",
   "execution_count": 68,
   "id": "ac6358e0",
   "metadata": {},
   "outputs": [],
   "source": [
    "heros.append('black panther')\n"
   ]
  },
  {
   "cell_type": "code",
   "execution_count": 69,
   "id": "97ad01bb",
   "metadata": {},
   "outputs": [
    {
     "data": {
      "text/plain": [
       "['spider man', 'thor', 'hulk', 'iron man', 'captain america', 'black panther']"
      ]
     },
     "execution_count": 69,
     "metadata": {},
     "output_type": "execute_result"
    }
   ],
   "source": [
    "heros"
   ]
  },
  {
   "cell_type": "code",
   "execution_count": 70,
   "id": "5883d9ef",
   "metadata": {},
   "outputs": [
    {
     "data": {
      "text/plain": [
       "['spider man', 'thor', 'hulk', 'iron man', 'captain america']"
      ]
     },
     "execution_count": 70,
     "metadata": {},
     "output_type": "execute_result"
    }
   ],
   "source": [
    "heros.remove('black panther')\n",
    "heros"
   ]
  },
  {
   "cell_type": "code",
   "execution_count": 71,
   "id": "56ff45ee",
   "metadata": {},
   "outputs": [
    {
     "data": {
      "text/plain": [
       "['spider man', 'thor', 'hulk', 'black pabther', 'iron man', 'captain america']"
      ]
     },
     "execution_count": 71,
     "metadata": {},
     "output_type": "execute_result"
    }
   ],
   "source": [
    "heros.insert(3, 'black pabther')\n",
    "heros"
   ]
  },
  {
   "cell_type": "code",
   "execution_count": 72,
   "id": "c2e5a7fc",
   "metadata": {},
   "outputs": [
    {
     "data": {
      "text/plain": [
       "['spider man',\n",
       " 'doctor strange',\n",
       " 'black pabther',\n",
       " 'iron man',\n",
       " 'captain america']"
      ]
     },
     "execution_count": 72,
     "metadata": {},
     "output_type": "execute_result"
    }
   ],
   "source": [
    "heros[1:3] = ['doctor strange']\n",
    "heros"
   ]
  },
  {
   "cell_type": "code",
   "execution_count": 73,
   "id": "45fdac14",
   "metadata": {},
   "outputs": [],
   "source": [
    "heros.sort()"
   ]
  },
  {
   "cell_type": "code",
   "execution_count": 74,
   "id": "856a3d3e",
   "metadata": {},
   "outputs": [
    {
     "data": {
      "text/plain": [
       "['black pabther',\n",
       " 'captain america',\n",
       " 'doctor strange',\n",
       " 'iron man',\n",
       " 'spider man']"
      ]
     },
     "execution_count": 74,
     "metadata": {},
     "output_type": "execute_result"
    }
   ],
   "source": [
    "heros"
   ]
  },
  {
   "cell_type": "markdown",
   "id": "96d7d55e",
   "metadata": {},
   "source": [
    "# Create a list of all odd numbers between 1 and a max number. Max number is something you need to take from a user using input() function"
   ]
  },
  {
   "cell_type": "code",
   "execution_count": 77,
   "id": "72fb079f",
   "metadata": {},
   "outputs": [
    {
     "data": {
      "text/plain": [
       "'10'"
      ]
     },
     "execution_count": 77,
     "metadata": {},
     "output_type": "execute_result"
    }
   ],
   "source": [
    "num = input()\n",
    "num"
   ]
  },
  {
   "cell_type": "code",
   "execution_count": 78,
   "id": "eb9c8cbd",
   "metadata": {},
   "outputs": [],
   "source": [
    "odd = []\n",
    "for i in range(10):\n",
    "    if i % 2 != 0:\n",
    "        odd.append(i)\n"
   ]
  },
  {
   "cell_type": "code",
   "execution_count": 79,
   "id": "daa12539",
   "metadata": {},
   "outputs": [
    {
     "data": {
      "text/plain": [
       "[1, 3, 5, 7, 9]"
      ]
     },
     "execution_count": 79,
     "metadata": {},
     "output_type": "execute_result"
    }
   ],
   "source": [
    "odd"
   ]
  },
  {
   "cell_type": "markdown",
   "id": "3e871744",
   "metadata": {},
   "source": [
    "# Two Sum\n",
    "Given an array of integers nums and an integer target, return the indices i and j such that nums[i] + nums[j] == target and i != j.\n",
    "\n",
    "You may assume that every input has exactly one pair of indices i and j that satisfy the condition.\n",
    "\n",
    "Return the answer with the smaller index first.\n",
    "\n",
    "Example 1:\n",
    "\n",
    "Input: \n",
    "nums = [3,4,5,6], target = 7\n",
    "\n",
    "Output: [0,1]\n",
    "Explanation: nums[0] + nums[1] == 7, so we return [0, 1].\n",
    "\n",
    "Example 2:\n",
    "\n",
    "Input: nums = [4,5,6], target = 10\n",
    "\n",
    "Output: [0,2]\n",
    "Example 3:\n",
    "\n",
    "Input: nums = [5,5], target = 10\n",
    "\n",
    "Output: [0,1]"
   ]
  },
  {
   "cell_type": "code",
   "execution_count": 92,
   "id": "7e4bcef5",
   "metadata": {},
   "outputs": [
    {
     "data": {
      "text/plain": [
       "[2, 4]"
      ]
     },
     "execution_count": 92,
     "metadata": {},
     "output_type": "execute_result"
    }
   ],
   "source": [
    "nums=[-1,-2,-3,-4,-5]\n",
    "target=-8\n",
    "\n",
    "\n",
    "def twoSum(nums, target):\n",
    "\n",
    "    if len(nums) <= 1:\n",
    "        return []\n",
    "    \n",
    "    prevmap = {}\n",
    "    for i , n in enumerate(nums):\n",
    "        diff = target - n\n",
    "        if diff in prevmap:\n",
    "            return[prevmap[diff], i]\n",
    "        else:\n",
    "            prevmap[n] = i\n",
    "\n",
    "\n",
    "twoSum(nums, target)"
   ]
  },
  {
   "cell_type": "code",
   "execution_count": 85,
   "id": "ea020870",
   "metadata": {},
   "outputs": [
    {
     "name": "stdout",
     "output_type": "stream",
     "text": [
      "[3, 4, 6, 9]\n"
     ]
    }
   ],
   "source": [
    "nums = [3,4,9,6]\n",
    "target = 7\n",
    "nums.sort()\n",
    "print(nums)"
   ]
  },
  {
   "cell_type": "code",
   "execution_count": null,
   "id": "e2ebdd6e",
   "metadata": {},
   "outputs": [],
   "source": []
  }
 ],
 "metadata": {
  "kernelspec": {
   "display_name": ".venv",
   "language": "python",
   "name": "python3"
  },
  "language_info": {
   "codemirror_mode": {
    "name": "ipython",
    "version": 3
   },
   "file_extension": ".py",
   "mimetype": "text/x-python",
   "name": "python",
   "nbconvert_exporter": "python",
   "pygments_lexer": "ipython3",
   "version": "3.9.6"
  }
 },
 "nbformat": 4,
 "nbformat_minor": 5
}
