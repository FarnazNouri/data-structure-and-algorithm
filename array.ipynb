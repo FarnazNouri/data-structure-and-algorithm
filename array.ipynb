{
 "cells": [
  {
   "cell_type": "markdown",
   "id": "29250c3b",
   "metadata": {},
   "source": [
    "# Exercise: Array DataStructure\n",
    "\n",
    "Let us say your expense for every month are listed below,\n",
    "\n",
    "January - 2200\n",
    "\n",
    "February - 2350\n",
    "\n",
    "March - 2600\n",
    "\n",
    "April - 2130\n",
    "\n",
    "May - 2190\n",
    "\n",
    "Create a list to store these monthly expenses and using that find out,\n",
    "\n",
    "1. In Feb, how many dollars you spent extra compare to January?\n",
    "2. Find out your total expense in first quarter (first three months) of the year.\n",
    "3. Find out if you spent exactly 2000 dollars in any month\n",
    "4. June month just finished and your expense is 1980 dollar. Add this item to our monthly expense list\n",
    "5. You returned an item that you bought in a month of April and\n",
    "got a refund of 200$. Make a correction to your monthly expense list\n",
    "based on this"
   ]
  },
  {
   "cell_type": "code",
   "execution_count": 25,
   "id": "09259412",
   "metadata": {},
   "outputs": [
    {
     "data": {
      "text/plain": [
       "[2200, 2350, 2600, 2130, 2190]"
      ]
     },
     "execution_count": 25,
     "metadata": {},
     "output_type": "execute_result"
    }
   ],
   "source": [
    "expense = [2200,2350,2600,2130,2190]\n",
    "expense"
   ]
  },
  {
   "cell_type": "code",
   "execution_count": 3,
   "id": "1896dedb",
   "metadata": {},
   "outputs": [
    {
     "data": {
      "text/plain": [
       "150"
      ]
     },
     "execution_count": 3,
     "metadata": {},
     "output_type": "execute_result"
    }
   ],
   "source": [
    "expense[1]- expense[0]"
   ]
  },
  {
   "cell_type": "code",
   "execution_count": 4,
   "id": "39fa2204",
   "metadata": {},
   "outputs": [
    {
     "data": {
      "text/plain": [
       "7150"
      ]
     },
     "execution_count": 4,
     "metadata": {},
     "output_type": "execute_result"
    }
   ],
   "source": [
    "sum(expense[0:3])"
   ]
  },
  {
   "cell_type": "code",
   "execution_count": 12,
   "id": "5078ed57",
   "metadata": {},
   "outputs": [
    {
     "data": {
      "text/plain": [
       "False"
      ]
     },
     "execution_count": 12,
     "metadata": {},
     "output_type": "execute_result"
    }
   ],
   "source": [
    "2000 in expense"
   ]
  },
  {
   "cell_type": "code",
   "execution_count": 26,
   "id": "262e8895",
   "metadata": {},
   "outputs": [],
   "source": [
    "expense.append(1980)"
   ]
  },
  {
   "cell_type": "code",
   "execution_count": 27,
   "id": "3e7b175c",
   "metadata": {},
   "outputs": [
    {
     "data": {
      "text/plain": [
       "[2200, 2350, 2600, 2130, 2190, 1980]"
      ]
     },
     "execution_count": 27,
     "metadata": {},
     "output_type": "execute_result"
    }
   ],
   "source": [
    "expense"
   ]
  },
  {
   "cell_type": "code",
   "execution_count": 28,
   "id": "0e7ce963",
   "metadata": {},
   "outputs": [
    {
     "data": {
      "text/plain": [
       "[2200, 2350, 2600, 2130, 1990, 1980]"
      ]
     },
     "execution_count": 28,
     "metadata": {},
     "output_type": "execute_result"
    }
   ],
   "source": [
    "expense[4]=expense[4]-200\n",
    "expense"
   ]
  },
  {
   "cell_type": "markdown",
   "id": "d5376c35",
   "metadata": {},
   "source": [
    "# You have a list of your favourite marvel super heros.\n",
    "heros=['spider man','thor','hulk','iron man','captain america']\n",
    "Using this find out,\n",
    "\n",
    "1. Length of the list\n",
    "2. Add 'black panther' at the end of this list\n",
    "3. You realize that you need to add 'black panther' after 'hulk',\n",
    "   so remove it from the list first and then add it after 'hulk'\n",
    "4. Now you don't like thor and hulk because they get angry easily :)\n",
    "   So you want to remove thor and hulk from list and replace them with doctor strange (because he is cool).\n",
    "   Do that with one line of code.\n",
    "5. Sort the heros list in alphabetical order (Hint. Use dir() functions to list down all functions available in list)"
   ]
  },
  {
   "cell_type": "code",
   "execution_count": 66,
   "id": "bdaf52c2",
   "metadata": {},
   "outputs": [],
   "source": [
    "heros=['spider man','thor','hulk','iron man','captain america']"
   ]
  },
  {
   "cell_type": "code",
   "execution_count": 67,
   "id": "57ba22fd",
   "metadata": {},
   "outputs": [
    {
     "data": {
      "text/plain": [
       "5"
      ]
     },
     "execution_count": 67,
     "metadata": {},
     "output_type": "execute_result"
    }
   ],
   "source": [
    "len(heros)"
   ]
  },
  {
   "cell_type": "code",
   "execution_count": 68,
   "id": "ac6358e0",
   "metadata": {},
   "outputs": [],
   "source": [
    "heros.append('black panther')\n"
   ]
  },
  {
   "cell_type": "code",
   "execution_count": 69,
   "id": "97ad01bb",
   "metadata": {},
   "outputs": [
    {
     "data": {
      "text/plain": [
       "['spider man', 'thor', 'hulk', 'iron man', 'captain america', 'black panther']"
      ]
     },
     "execution_count": 69,
     "metadata": {},
     "output_type": "execute_result"
    }
   ],
   "source": [
    "heros"
   ]
  },
  {
   "cell_type": "code",
   "execution_count": 70,
   "id": "5883d9ef",
   "metadata": {},
   "outputs": [
    {
     "data": {
      "text/plain": [
       "['spider man', 'thor', 'hulk', 'iron man', 'captain america']"
      ]
     },
     "execution_count": 70,
     "metadata": {},
     "output_type": "execute_result"
    }
   ],
   "source": [
    "heros.remove('black panther')\n",
    "heros"
   ]
  },
  {
   "cell_type": "code",
   "execution_count": 71,
   "id": "56ff45ee",
   "metadata": {},
   "outputs": [
    {
     "data": {
      "text/plain": [
       "['spider man', 'thor', 'hulk', 'black pabther', 'iron man', 'captain america']"
      ]
     },
     "execution_count": 71,
     "metadata": {},
     "output_type": "execute_result"
    }
   ],
   "source": [
    "heros.insert(3, 'black pabther')\n",
    "heros"
   ]
  },
  {
   "cell_type": "code",
   "execution_count": 72,
   "id": "c2e5a7fc",
   "metadata": {},
   "outputs": [
    {
     "data": {
      "text/plain": [
       "['spider man',\n",
       " 'doctor strange',\n",
       " 'black pabther',\n",
       " 'iron man',\n",
       " 'captain america']"
      ]
     },
     "execution_count": 72,
     "metadata": {},
     "output_type": "execute_result"
    }
   ],
   "source": [
    "heros[1:3] = ['doctor strange']\n",
    "heros"
   ]
  },
  {
   "cell_type": "code",
   "execution_count": 73,
   "id": "45fdac14",
   "metadata": {},
   "outputs": [],
   "source": [
    "heros.sort()"
   ]
  },
  {
   "cell_type": "code",
   "execution_count": 74,
   "id": "856a3d3e",
   "metadata": {},
   "outputs": [
    {
     "data": {
      "text/plain": [
       "['black pabther',\n",
       " 'captain america',\n",
       " 'doctor strange',\n",
       " 'iron man',\n",
       " 'spider man']"
      ]
     },
     "execution_count": 74,
     "metadata": {},
     "output_type": "execute_result"
    }
   ],
   "source": [
    "heros"
   ]
  },
  {
   "cell_type": "markdown",
   "id": "96d7d55e",
   "metadata": {},
   "source": [
    "# Create a list of all odd numbers between 1 and a max number. Max number is something you need to take from a user using input() function"
   ]
  },
  {
   "cell_type": "code",
   "execution_count": 77,
   "id": "72fb079f",
   "metadata": {},
   "outputs": [
    {
     "data": {
      "text/plain": [
       "'10'"
      ]
     },
     "execution_count": 77,
     "metadata": {},
     "output_type": "execute_result"
    }
   ],
   "source": [
    "num = input()\n",
    "num"
   ]
  },
  {
   "cell_type": "code",
   "execution_count": 78,
   "id": "eb9c8cbd",
   "metadata": {},
   "outputs": [],
   "source": [
    "odd = []\n",
    "for i in range(10):\n",
    "    if i % 2 != 0:\n",
    "        odd.append(i)\n"
   ]
  },
  {
   "cell_type": "code",
   "execution_count": 79,
   "id": "daa12539",
   "metadata": {},
   "outputs": [
    {
     "data": {
      "text/plain": [
       "[1, 3, 5, 7, 9]"
      ]
     },
     "execution_count": 79,
     "metadata": {},
     "output_type": "execute_result"
    }
   ],
   "source": [
    "odd"
   ]
  },
  {
   "cell_type": "markdown",
   "id": "3e871744",
   "metadata": {},
   "source": [
    "# Two Sum\n",
    "Given an array of integers nums and an integer target, return the indices i and j such that nums[i] + nums[j] == target and i != j.\n",
    "\n",
    "You may assume that every input has exactly one pair of indices i and j that satisfy the condition.\n",
    "\n",
    "Return the answer with the smaller index first.\n",
    "\n",
    "Example 1:\n",
    "\n",
    "Input: \n",
    "nums = [3,4,5,6], target = 7\n",
    "\n",
    "Output: [0,1]\n",
    "Explanation: nums[0] + nums[1] == 7, so we return [0, 1].\n",
    "\n",
    "Example 2:\n",
    "\n",
    "Input: nums = [4,5,6], target = 10\n",
    "\n",
    "Output: [0,2]\n",
    "Example 3:\n",
    "\n",
    "Input: nums = [5,5], target = 10\n",
    "\n",
    "Output: [0,1]"
   ]
  },
  {
   "cell_type": "code",
   "execution_count": 92,
   "id": "7e4bcef5",
   "metadata": {},
   "outputs": [
    {
     "data": {
      "text/plain": [
       "[2, 4]"
      ]
     },
     "execution_count": 92,
     "metadata": {},
     "output_type": "execute_result"
    }
   ],
   "source": [
    "nums=[-1,-2,-3,-4,-5]\n",
    "target=-8\n",
    "\n",
    "\n",
    "def twoSum(nums, target):\n",
    "\n",
    "    if len(nums) <= 1:\n",
    "        return []\n",
    "    \n",
    "    prevmap = {}\n",
    "    for i , n in enumerate(nums):\n",
    "        diff = target - n\n",
    "        if diff in prevmap:\n",
    "            return[prevmap[diff], i]\n",
    "        else:\n",
    "            prevmap[n] = i\n",
    "\n",
    "\n",
    "twoSum(nums, target)"
   ]
  },
  {
   "cell_type": "code",
   "execution_count": 85,
   "id": "ea020870",
   "metadata": {},
   "outputs": [
    {
     "name": "stdout",
     "output_type": "stream",
     "text": [
      "[3, 4, 6, 9]\n"
     ]
    }
   ],
   "source": [
    "nums = [3,4,9,6]\n",
    "target = 7\n",
    "nums.sort()\n",
    "print(nums)"
   ]
  },
  {
   "cell_type": "markdown",
   "id": "6a63f7c2",
   "metadata": {},
   "source": [
    "# Encode and Decode Strings\n",
    "Design an algorithm to encode a list of strings to a single string. The encoded string is then decoded back to the original list of strings.\n",
    "\n",
    "Please implement encode and decode\n",
    "\n",
    "Example 1:\n",
    "\n",
    "Input: [\"neet\",\"code\",\"love\",\"you\"]\n",
    "\n",
    "Output:[\"neet\",\"code\",\"love\",\"you\"]\n",
    "Example 2:\n",
    "\n",
    "Input: [\"we\",\"say\",\":\",\"yes\"]\n",
    "\n",
    "Output: [\"we\",\"say\",\":\",\"yes\"]\n",
    "Constraints:\n",
    "\n",
    "0 <= strs.length < 100\n",
    "0 <= strs[i].length < 200\n",
    "strs[i] contains only UTF-8 characters."
   ]
  },
  {
   "cell_type": "code",
   "execution_count": 3,
   "id": "e2ebdd6e",
   "metadata": {},
   "outputs": [
    {
     "name": "stdout",
     "output_type": "stream",
     "text": [
      "strs:  4 neet code love you \n",
      "decoded s: ['4', 'neet', 'code', 'love', 'you']\n"
     ]
    }
   ],
   "source": [
    "def encode(s_list):\n",
    "    \n",
    "    strs = ''\n",
    "    for s in s_list:\n",
    "        strs = strs +  s + ' '\n",
    "    return strs\n",
    "\n",
    "def decode(strs):\n",
    "    return strs.split()\n",
    "\n",
    "s_list = [\"4 neet\",\"code\",\"love\",\"you\"]\n",
    "strs = encode(s_list)\n",
    "print(\"strs: \", strs)\n",
    "print('decoded s:' , decode(strs))"
   ]
  },
  {
   "cell_type": "code",
   "execution_count": 41,
   "id": "6b9cf164",
   "metadata": {},
   "outputs": [
    {
     "name": "stdout",
     "output_type": "stream",
     "text": [
      "=== TESTING CORRECTED VERSIONS ===\n",
      "Original: ['4neet', 'code', 'love', 'you']\n",
      "Encoded: '5#4neet4#code4#love3#you'\n",
      "\n",
      "Version 1 decode: ['4neet', 'code', 'love', 'you']\n",
      "Version 2 decode: ['4neet', 'code', 'love', 'you']\n",
      "\n",
      "=== TESTING EDGE CASES ===\n",
      "Original: ['']\n",
      "Encoded: '0#'\n",
      "Decoded: ['']\n",
      "Match: True\n",
      "\n",
      "Original: ['a', 'bb', 'ccc']\n",
      "Encoded: '1#a2#bb3#ccc'\n",
      "Decoded: ['a', 'bb', 'ccc']\n",
      "Match: True\n",
      "\n",
      "Original: ['hello', 'world']\n",
      "Encoded: '5#hello5#world'\n",
      "Decoded: ['hello', 'world']\n",
      "Match: True\n",
      "\n",
      "Original: ['we', 'say', ':', 'yes']\n",
      "Encoded: '2#we3#say1#:3#yes'\n",
      "Decoded: ['we', 'say', ':', 'yes']\n",
      "Match: True\n",
      "\n"
     ]
    }
   ],
   "source": [
    "# ✅ CORRECTED VERSION\n",
    "def encode_fixed(s_list):\n",
    "    \"\"\"Encode list of strings using length#string format\"\"\"\n",
    "    result = ''\n",
    "    for s in s_list:\n",
    "        result += str(len(s)) + '#' + s\n",
    "    return result\n",
    "\n",
    "def decode_fixed(strs):\n",
    "    \"\"\"Decode string back to list of strings\"\"\"\n",
    "    result = []\n",
    "    i = 0\n",
    "    \n",
    "    while i < len(strs):\n",
    "        # Find the '#' delimiter\n",
    "        hash_pos = strs.find('#', i)\n",
    "        if hash_pos == -1:\n",
    "            break\n",
    "            \n",
    "        # Extract length\n",
    "        length = int(strs[i:hash_pos])\n",
    "        \n",
    "        # Extract the actual string\n",
    "        start = hash_pos + 1\n",
    "        end = start + length\n",
    "        \n",
    "        if end <= len(strs):\n",
    "            result.append(strs[start:end])\n",
    "            i = end  # Move to next length indicator\n",
    "        else:\n",
    "            break\n",
    "    \n",
    "    return result\n",
    "\n",
    "# Alternative cleaner implementation\n",
    "def decode_fixed_v2(strs):\n",
    "    \"\"\"Even cleaner decode implementation\"\"\"\n",
    "    result = []\n",
    "    i = 0\n",
    "    \n",
    "    while i < len(strs):\n",
    "        # Read length until we hit '#'\n",
    "        j = i\n",
    "        while j < len(strs) and strs[j] != '#':\n",
    "            j += 1\n",
    "        \n",
    "        # Extract length and string\n",
    "        length = int(strs[i:j])\n",
    "        string = strs[j+1:j+1+length]\n",
    "        result.append(string)\n",
    "        \n",
    "        # Move to next part\n",
    "        i = j + 1 + length\n",
    "    \n",
    "    return result\n",
    "\n",
    "# Test both versions\n",
    "print(\"=== TESTING CORRECTED VERSIONS ===\")\n",
    "s_list = [\"4neet\", \"code\", \"love\", \"you\"]\n",
    "encoded = encode_fixed(s_list)\n",
    "print(f\"Original: {s_list}\")\n",
    "print(f\"Encoded: '{encoded}'\")\n",
    "\n",
    "print(f\"\\nVersion 1 decode: {decode_fixed(encoded)}\")\n",
    "print(f\"Version 2 decode: {decode_fixed_v2(encoded)}\")\n",
    "\n",
    "# Test edge cases\n",
    "print(\"\\n=== TESTING EDGE CASES ===\")\n",
    "edge_cases = [\n",
    "    [\"\"],  # Empty string\n",
    "    [\"a\", \"bb\", \"ccc\"],  # Different lengths\n",
    "    [\"hello\", \"world\"],  # Normal case\n",
    "    [\"we\", \"say\", \":\", \"yes\"]  # Special characters\n",
    "]\n",
    "\n",
    "for test_case in edge_cases:\n",
    "    encoded = encode_fixed(test_case)\n",
    "    decoded = decode_fixed(encoded)\n",
    "    print(f\"Original: {test_case}\")\n",
    "    print(f\"Encoded: '{encoded}'\")\n",
    "    print(f\"Decoded: {decoded}\")\n",
    "    print(f\"Match: {test_case == decoded}\")\n",
    "    print()"
   ]
  },
  {
   "cell_type": "markdown",
   "id": "46680afb",
   "metadata": {},
   "source": [
    "# Products of Array Except Self\n",
    "Given an integer array nums, return an array output where output[i] is the product of all the elements of nums except nums[i].\n",
    "\n",
    "Each product is guaranteed to fit in a 32-bit integer.\n",
    "\n",
    "Follow-up: Could you solve it in \n",
    "O\n",
    "(\n",
    "n\n",
    ")\n",
    "O(n) time without using the division operation?\n",
    "\n",
    "Example 1:\n",
    "\n",
    "Input: nums = [1,2,4,6]\n",
    "\n",
    "Output: [48,24,12,8]\n",
    "Example 2:\n",
    "\n",
    "Input: nums = [-1,0,1,2,3]\n",
    "\n",
    "Output: [0,-6,0,0,0]\n",
    "Constraints:\n",
    "\n",
    "2 <= nums.length <= 1000\n",
    "-20 <= nums[i] <= 20\n"
   ]
  },
  {
   "cell_type": "code",
   "execution_count": 46,
   "id": "10c8bcf4",
   "metadata": {},
   "outputs": [
    {
     "data": {
      "text/plain": [
       "[48, 24, 12, 8]"
      ]
     },
     "execution_count": 46,
     "metadata": {},
     "output_type": "execute_result"
    }
   ],
   "source": [
    "nums = [1,2,4,6]\n",
    "\n",
    "res = []\n",
    "for i in range(len(nums)):\n",
    "    num = 1\n",
    "    for j in range(len(nums)):\n",
    "        if i==j:\n",
    "            continue\n",
    "        else:\n",
    "            num *= nums[j] \n",
    "    res.append(num)\n",
    "\n",
    "res"
   ]
  },
  {
   "cell_type": "code",
   "execution_count": 69,
   "id": "fb050c3a",
   "metadata": {},
   "outputs": [
    {
     "name": "stdout",
     "output_type": "stream",
     "text": [
      "-6\n"
     ]
    },
    {
     "data": {
      "text/plain": [
       "[0, -6, 0, 0, 0]"
      ]
     },
     "execution_count": 69,
     "metadata": {},
     "output_type": "execute_result"
    }
   ],
   "source": [
    "def productExceptSeld(nums):\n",
    "    prod = 1\n",
    "    zero_count = nums.count(0)\n",
    "    for i in nums:\n",
    "        if zero_count > 1:\n",
    "            return [0] * len(nums)\n",
    "        elif i == 0:\n",
    "            continue\n",
    "        else:\n",
    "            prod *= i\n",
    "    print(prod)\n",
    "\n",
    "    res = [0] * len(nums)\n",
    "\n",
    "    for i in range(len(nums)):\n",
    "        if zero_count == 1 and nums[i] == 0:\n",
    "            res[i] = prod\n",
    "            return res\n",
    "        elif zero_count ==1 and nums[i] != 0:\n",
    "            continue\n",
    "        else:\n",
    "            res[i] = prod // nums[i]\n",
    "    return res\n",
    "\n",
    "nums =[-1,0,1,2,3]\n",
    "productExceptSeld(nums)"
   ]
  },
  {
   "cell_type": "markdown",
   "id": "804bd785",
   "metadata": {},
   "source": [
    "## 🐛 Issues with Your Product Except Self Code\n",
    "\n",
    "There are several critical bugs in your implementation:"
   ]
  },
  {
   "cell_type": "code",
   "execution_count": 59,
   "id": "8b528ccf",
   "metadata": {},
   "outputs": [
    {
     "name": "stdout",
     "output_type": "stream",
     "text": [
      "\n",
      "Input: [1, 2, 4, 6]\n",
      "Division approach:  [48, 24, 12, 8]\n",
      "Optimal approach:   [48, 24, 12, 8]\n",
      "Readable approach:  [48, 24, 12, 8]\n",
      "✅ All approaches match!\n",
      "\n",
      "Input: [-1, 0, 1, 2, 3]\n",
      "Division approach:  [0, -6, 0, 0, 0]\n",
      "Optimal approach:   [0, -6, 0, 0, 0]\n",
      "Readable approach:  [0, -6, 0, 0, 0]\n",
      "✅ All approaches match!\n",
      "\n",
      "Input: [0, 0, 1, 2]\n",
      "Division approach:  [0, 0, 0, 0]\n",
      "Optimal approach:   [0, 0, 0, 0]\n",
      "Readable approach:  [0, 0, 0, 0]\n",
      "✅ All approaches match!\n",
      "\n",
      "Input: [-1, -2, -3]\n",
      "Division approach:  [6, 3, 2]\n",
      "Optimal approach:   [6, 3, 2]\n",
      "Readable approach:  [6, 3, 2]\n",
      "✅ All approaches match!\n",
      "\n",
      "Input: [2, 3]\n",
      "Division approach:  [3, 2]\n",
      "Optimal approach:   [3, 2]\n",
      "Readable approach:  [3, 2]\n",
      "✅ All approaches match!\n"
     ]
    }
   ],
   "source": [
    "# ✅ CORRECTED VERSION 1: Simple Division Approach\n",
    "def productExceptSelf_division(nums):\n",
    "    \"\"\"Simple approach using division (when allowed)\"\"\"\n",
    "    zero_count = nums.count(0)\n",
    "    \n",
    "    if zero_count > 1:\n",
    "        # More than one zero means all results are 0\n",
    "        return [0] * len(nums)\n",
    "    elif zero_count == 1:\n",
    "        # Exactly one zero\n",
    "        total_product = 1\n",
    "        for num in nums:\n",
    "            if num != 0:\n",
    "                total_product *= num\n",
    "        \n",
    "        result = []\n",
    "        for num in nums:\n",
    "            if num == 0:\n",
    "                result.append(total_product)\n",
    "            else:\n",
    "                result.append(0)\n",
    "        return result\n",
    "    else:\n",
    "        # No zeros\n",
    "        total_product = 1\n",
    "        for num in nums:\n",
    "            total_product *= num\n",
    "        \n",
    "        return [total_product // num for num in nums]\n",
    "\n",
    "# ✅ CORRECTED VERSION 2: Left and Right Products (O(n) without division)\n",
    "def productExceptSelf_optimal(nums):\n",
    "    \"\"\"Optimal O(n) solution without division\"\"\"\n",
    "    n = len(nums)\n",
    "    result = [1] * n\n",
    "    \n",
    "    # Calculate left products\n",
    "    for i in range(1, n):\n",
    "        result[i] = result[i-1] * nums[i-1]\n",
    "    \n",
    "    # Calculate right products on the fly\n",
    "    right = 1\n",
    "    for i in range(n-1, -1, -1):\n",
    "        result[i] *= right\n",
    "        right *= nums[i]\n",
    "    \n",
    "    return result\n",
    "\n",
    "# ✅ CORRECTED VERSION 3: Most Readable\n",
    "def productExceptSelf_readable(nums):\n",
    "    \"\"\"Most readable version with explicit left/right arrays\"\"\"\n",
    "    n = len(nums)\n",
    "    \n",
    "    # Build left products\n",
    "    left = [1] * n\n",
    "    for i in range(1, n):\n",
    "        left[i] = left[i-1] * nums[i-1]\n",
    "    \n",
    "    # Build right products  \n",
    "    right = [1] * n\n",
    "    for i in range(n-2, -1, -1):\n",
    "        right[i] = right[i+1] * nums[i+1]\n",
    "    \n",
    "    # Combine left and right\n",
    "    result = []\n",
    "    for i in range(n):\n",
    "        result.append(left[i] * right[i])\n",
    "    \n",
    "    return result\n",
    "\n",
    "# Test all versions\n",
    "test_cases = [\n",
    "    [1, 2, 4, 6],           # Normal case\n",
    "    [-1, 0, 1, 2, 3],       # One zero\n",
    "    [0, 0, 1, 2],           # Multiple zeros\n",
    "    [-1, -2, -3],           # All negative\n",
    "    [2, 3],                 # Small array\n",
    "]\n",
    "\n",
    "for nums in test_cases:\n",
    "    print(f\"\\nInput: {nums}\")\n",
    "    print(f\"Division approach:  {productExceptSelf_division(nums)}\")\n",
    "    print(f\"Optimal approach:   {productExceptSelf_optimal(nums)}\")\n",
    "    print(f\"Readable approach:  {productExceptSelf_readable(nums)}\")\n",
    "    \n",
    "    # Verify all approaches give same result\n",
    "    div_result = productExceptSelf_division(nums)\n",
    "    opt_result = productExceptSelf_optimal(nums)\n",
    "    read_result = productExceptSelf_readable(nums)\n",
    "    \n",
    "    if div_result == opt_result == read_result:\n",
    "        print(\"✅ All approaches match!\")\n",
    "    else:\n",
    "        print(\"❌ Approaches don't match!\")"
   ]
  },
  {
   "cell_type": "code",
   "execution_count": 74,
   "id": "c944b992",
   "metadata": {},
   "outputs": [
    {
     "data": {
      "text/plain": [
       "[0, -6, 0, 0, 0]"
      ]
     },
     "execution_count": 74,
     "metadata": {},
     "output_type": "execute_result"
    }
   ],
   "source": [
    "def productExceptSelf_optimal(nums):\n",
    "    \"\"\"Optimal O(n) solution without division\"\"\"\n",
    "    n = len(nums)\n",
    "    result = [1] * n\n",
    "    \n",
    "    # Calculate left products\n",
    "    left = 1\n",
    "    for i in range(n):\n",
    "        result[i] *= left\n",
    "        left *= nums[i]\n",
    "    \n",
    "    # Calculate right products on the fly\n",
    "    right = 1\n",
    "    for i in range(n-1, -1, -1):\n",
    "        result[i] *= right\n",
    "        right *= nums[i]\n",
    "    \n",
    "    return result\n",
    "\n",
    "nums =[-1,0,1,2,3]\n",
    "productExceptSelf_optimal(nums)"
   ]
  },
  {
   "cell_type": "code",
   "execution_count": null,
   "id": "07328ae3",
   "metadata": {},
   "outputs": [],
   "source": []
  }
 ],
 "metadata": {
  "kernelspec": {
   "display_name": "Python 3",
   "language": "python",
   "name": "python3"
  },
  "language_info": {
   "codemirror_mode": {
    "name": "ipython",
    "version": 3
   },
   "file_extension": ".py",
   "mimetype": "text/x-python",
   "name": "python",
   "nbconvert_exporter": "python",
   "pygments_lexer": "ipython3",
   "version": "3.9.6"
  }
 },
 "nbformat": 4,
 "nbformat_minor": 5
}
